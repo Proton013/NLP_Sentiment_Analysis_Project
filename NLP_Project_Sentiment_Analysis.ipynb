{
  "nbformat": 4,
  "nbformat_minor": 0,
  "metadata": {
    "colab": {
      "name": "NLP_Project_Sentiment_Analysis1.ipynb",
      "provenance": [],
      "collapsed_sections": [
        "UFov24aM1eYG",
        "H0jg_Y7L4F46",
        "Af3pkjJHzKGP",
        "jzMuboPC49GF",
        "-Y-8yP-TDW2v",
        "YwQK6jkrJ32T",
        "GeBrgWc0J_or",
        "vccIGn_AKjVe",
        "nh3aAp6qKvnm",
        "_BVCqglmsQW_",
        "hpeGvtcsJ-hP",
        "M4wHzjtosmxy",
        "guLVJTtgJJ1I",
        "o2h_zDvFAWJT"
      ],
      "toc_visible": true
    },
    "kernelspec": {
      "display_name": "Python 3",
      "name": "python3"
    }
  },
  "cells": [
    {
      "cell_type": "markdown",
      "metadata": {
        "id": "UFov24aM1eYG"
      },
      "source": [
        "# **NLP Project - Sentiment analysis**\r\n",
        "The final goal of this solution is to provide a RNN model that will make the sentiment analysis of twitter messages from the given [training data](https://www.kaggle.com/kazanova/sentiment140/notebooks) of Kaggle.\r\n",
        "\r\n",
        "It implements 4 models (classfiers and RNN models) in the pipeline, allowing comparison and search of the most accurate for a given tweet.\r\n",
        "\r\n",
        "In this notebook, the initial dataset is studied and processed before the creation (then load) of the different models. A condensed use of a model, from a random input tweet to its prediction, is made in the pipeline. Before that, the models are initialized, trained, and tested.\r\n",
        "\r\n",
        "> The pipeline solution is at the end of this notebook.\r\n",
        "\r\n",
        "To access the dynamic table of contents, this toggle icon (top left of google colab notebook) can be used :  ![image.png](data:image/png;base64,iVBORw0KGgoAAAANSUhEUgAAABoAAAAaCAYAAACpSkzOAAAAiUlEQVRIie2SsRHDMAhFPZYGYAB6BhC9BtAAGoAx1DOANqL+qZJWsX3xOT4V747uwT22lBKuYFuiJbqPqLUGEQERIec8hZn3i1QVEYExxmeeYWbnL1LVKYcuurTRN1ueFokIIgLu/ttGRITeO0opD2r0/rjnNHJ31FrBzDCzKap680ZLtET/L3oB8SDO4qFSTIIAAAAASUVORK5CYII=)\r\n",
        "\r\n",
        "(non dynamic) **Table of Contents** :\r\n",
        "\r\n",
        "![image.png](data:image/png;base64,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)\r\n",
        "\r\n",
        "---"
      ]
    },
    {
      "cell_type": "markdown",
      "metadata": {
        "id": "o0zmyj4lBp49"
      },
      "source": [
        "We make the import in this one cell at the beginning of the notebook. It has been completed throughout the making of the whole solution."
      ]
    },
    {
      "cell_type": "code",
      "metadata": {
        "colab": {
          "base_uri": "https://localhost:8080/"
        },
        "id": "JSQJzNw_4giJ",
        "outputId": "40286a3a-7cde-4b1f-ff8d-89c8d977f090"
      },
      "source": [
        "import pandas as pd\r\n",
        "import numpy as np\r\n",
        "import matplotlib.image  as mpimg\r\n",
        "import matplotlib.pyplot as plt\r\n",
        "import random\r\n",
        "\r\n",
        "# preprocess\r\n",
        "import re\r\n",
        "import nltk\r\n",
        "from nltk.tokenize import word_tokenize\r\n",
        "from nltk.stem.snowball import EnglishStemmer\r\n",
        "from nltk.stem import WordNetLemmatizer\r\n",
        "from nltk.corpus import stopwords\r\n",
        "\r\n",
        "import tensorflow as tf\r\n",
        "tf.get_logger().setLevel('ERROR')\r\n",
        "import keras\r\n",
        "\r\n",
        "# rnn\r\n",
        "from tensorflow.keras.preprocessing.text import Tokenizer\r\n",
        "from tensorflow.keras.preprocessing import sequence\r\n",
        "from tensorflow.keras.layers import Dense, Input, Embedding, Dropout, BatchNormalization, LSTM, SpatialDropout1D, Bidirectional\r\n",
        "\r\n",
        "# classifiers\r\n",
        "from sklearn.tree import DecisionTreeClassifier # bow\r\n",
        "from sklearn.feature_extraction.text import TfidfVectorizer # tf-idf\r\n",
        "from sklearn.ensemble import RandomForestClassifier # tf_idf\r\n",
        "from joblib import dump, load # scikit-learn model saving and loading\r\n",
        "\r\n",
        "from sklearn.metrics import classification_report, confusion_matrix, accuracy_score \r\n",
        "from sklearn.model_selection import train_test_split\r\n",
        "\r\n",
        "# yelp api\r\n",
        "import requests\r\n",
        "import json\r\n",
        "\r\n",
        "# preprocess\r\n",
        "nltk.download('punkt')\r\n",
        "nltk.download('stopwords')\r\n",
        "nltk.download('wordnet')"
      ],
      "execution_count": 377,
      "outputs": [
        {
          "output_type": "stream",
          "text": [
            "[nltk_data] Downloading package punkt to /root/nltk_data...\n",
            "[nltk_data]   Package punkt is already up-to-date!\n",
            "[nltk_data] Downloading package stopwords to /root/nltk_data...\n",
            "[nltk_data]   Package stopwords is already up-to-date!\n",
            "[nltk_data] Downloading package wordnet to /root/nltk_data...\n",
            "[nltk_data]   Package wordnet is already up-to-date!\n"
          ],
          "name": "stdout"
        },
        {
          "output_type": "execute_result",
          "data": {
            "text/plain": [
              "True"
            ]
          },
          "metadata": {
            "tags": []
          },
          "execution_count": 377
        }
      ]
    },
    {
      "cell_type": "markdown",
      "metadata": {
        "id": "H0jg_Y7L4F46"
      },
      "source": [
        "### **Importing files**\r\n",
        "\r\n",
        "---"
      ]
    },
    {
      "cell_type": "markdown",
      "metadata": {
        "id": "0DhXt-5qB87p"
      },
      "source": [
        "Various data are stored and then import from a google drive directory, enabling to save time and computation (save model, data / processed data). "
      ]
    },
    {
      "cell_type": "code",
      "metadata": {
        "colab": {
          "base_uri": "https://localhost:8080/"
        },
        "id": "goK_Tcg207hX",
        "outputId": "3db26884-61cc-4c1f-9784-0e22403a3545"
      },
      "source": [
        "from google.colab import drive\r\n",
        "drive.mount('/content/gdrive/', force_remount=True) # force remount is used to update "
      ],
      "execution_count": null,
      "outputs": [
        {
          "output_type": "stream",
          "text": [
            "Mounted at /content/gdrive/\n"
          ],
          "name": "stdout"
        }
      ]
    },
    {
      "cell_type": "markdown",
      "metadata": {
        "id": "PPMQYV8PDf_p"
      },
      "source": [
        "( Cell to import the function from the utils.py script. Replaced by the following *Utils.py* section and cell. )"
      ]
    },
    {
      "cell_type": "code",
      "metadata": {
        "id": "xpFXwVcpL3_X"
      },
      "source": [
        "# from gdrive.MyDrive.NLP_Project import utils\r\n",
        "# from gdrive.MyDrive.NLP_Project.utils import *"
      ],
      "execution_count": null,
      "outputs": []
    },
    {
      "cell_type": "markdown",
      "metadata": {
        "id": "Af3pkjJHzKGP"
      },
      "source": [
        "##### Utils.py\r\n",
        "\r\n",
        "Originally an externat python script, it has been put here for faster changes and as the section may be collapsed, it remains here. The utils.py script will still be available on the Github repository."
      ]
    },
    {
      "cell_type": "code",
      "metadata": {
        "id": "rrjFqvfLzJw6"
      },
      "source": [
        "# Utils for english natural language processing mainly\r\n",
        "\r\n",
        "import numpy as np\r\n",
        "import re\r\n",
        "import nltk\r\n",
        "from nltk.stem.snowball import EnglishStemmer\r\n",
        "from nltk.stem import WordNetLemmatizer\r\n",
        "from nltk.corpus import stopwords\r\n",
        "\r\n",
        "# Abbreviations used in convert_abbrev_in_text function \r\n",
        "abbreviations = {\r\n",
        "    \"$\" : \" dollar \",\r\n",
        "    \"€\" : \" euro \",\r\n",
        "    \"4ao\" : \"for adults only\",\r\n",
        "    \"a.m\" : \"before midday\",\r\n",
        "    \"a3\" : \"anytime anywhere anyplace\",\r\n",
        "    \"aamof\" : \"as a matter of fact\",\r\n",
        "    \"acct\" : \"account\",\r\n",
        "    \"adih\" : \"another day in hell\",\r\n",
        "    \"afaic\" : \"as far as i am concerned\",\r\n",
        "    \"afaict\" : \"as far as i can tell\",\r\n",
        "    \"afaik\" : \"as far as i know\",\r\n",
        "    \"afair\" : \"as far as i remember\",\r\n",
        "    \"afk\" : \"away from keyboard\",\r\n",
        "    \"app\" : \"application\",\r\n",
        "    \"approx\" : \"approximately\",\r\n",
        "    \"apps\" : \"applications\",\r\n",
        "    \"asap\" : \"as soon as possible\",\r\n",
        "    \"asl\" : \"age, sex, location\",\r\n",
        "    \"atk\" : \"at the keyboard\",\r\n",
        "    \"ave.\" : \"avenue\",\r\n",
        "    \"aymm\" : \"are you my mother\",\r\n",
        "    \"ayor\" : \"at your own risk\", \r\n",
        "    \"b&b\" : \"bed and breakfast\",\r\n",
        "    \"b+b\" : \"bed and breakfast\",\r\n",
        "    \"b.c\" : \"before christ\",\r\n",
        "    \"b2b\" : \"business to business\",\r\n",
        "    \"b2c\" : \"business to customer\",\r\n",
        "    \"b4\" : \"before\",\r\n",
        "    \"b4n\" : \"bye for now\",\r\n",
        "    \"b@u\" : \"back at you\",\r\n",
        "    \"bae\" : \"before anyone else\",\r\n",
        "    \"bak\" : \"back at keyboard\",\r\n",
        "    \"bbbg\" : \"bye bye be good\",\r\n",
        "    \"bbc\" : \"british broadcasting corporation\",\r\n",
        "    \"bbias\" : \"be back in a second\",\r\n",
        "    \"bbl\" : \"be back later\",\r\n",
        "    \"bbs\" : \"be back soon\",\r\n",
        "    \"be4\" : \"before\",\r\n",
        "    \"bfn\" : \"bye for now\",\r\n",
        "    \"blvd\" : \"boulevard\",\r\n",
        "    \"bout\" : \"about\",\r\n",
        "    \"brb\" : \"be right back\",\r\n",
        "    \"bros\" : \"brothers\",\r\n",
        "    \"brt\" : \"be right there\",\r\n",
        "    \"bsaaw\" : \"big smile and a wink\",\r\n",
        "    \"btw\" : \"by the way\",\r\n",
        "    \"bwl\" : \"bursting with laughter\",\r\n",
        "    \"c/o\" : \"care of\",\r\n",
        "    \"cet\" : \"central european time\",\r\n",
        "    \"cf\" : \"compare\",\r\n",
        "    \"cia\" : \"central intelligence agency\",\r\n",
        "    \"csl\" : \"can not stop laughing\",\r\n",
        "    \"cu\" : \"see you\",\r\n",
        "    \"cul8r\" : \"see you later\",\r\n",
        "    \"cv\" : \"curriculum vitae\",\r\n",
        "    \"cwot\" : \"complete waste of time\",\r\n",
        "    \"cya\" : \"see you\",\r\n",
        "    \"cyt\" : \"see you tomorrow\",\r\n",
        "    \"dae\" : \"does anyone else\",\r\n",
        "    \"dbmib\" : \"do not bother me i am busy\",\r\n",
        "    \"diy\" : \"do it yourself\",\r\n",
        "    \"dm\" : \"direct message\",\r\n",
        "    \"dwh\" : \"during work hours\",\r\n",
        "    \"e123\" : \"easy as one two three\",\r\n",
        "    \"eet\" : \"eastern european time\",\r\n",
        "    \"eg\" : \"example\",\r\n",
        "    \"embm\" : \"early morning business meeting\",\r\n",
        "    \"encl\" : \"enclosed\",\r\n",
        "    \"encl.\" : \"enclosed\",\r\n",
        "    \"etc\" : \"and so on\",\r\n",
        "    \"faq\" : \"frequently asked questions\",\r\n",
        "    \"fawc\" : \"for anyone who cares\",\r\n",
        "    \"fb\" : \"facebook\",\r\n",
        "    \"fc\" : \"fingers crossed\",\r\n",
        "    \"fig\" : \"figure\",\r\n",
        "    \"fimh\" : \"forever in my heart\", \r\n",
        "    \"ft.\" : \"feet\",\r\n",
        "    \"ft\" : \"featuring\",\r\n",
        "    \"ftl\" : \"for the loss\",\r\n",
        "    \"ftw\" : \"for the win\",\r\n",
        "    \"fwiw\" : \"for what it is worth\",\r\n",
        "    \"fyi\" : \"for your information\",\r\n",
        "    \"g9\" : \"genius\",\r\n",
        "    \"gahoy\" : \"get a hold of yourself\",\r\n",
        "    \"gal\" : \"get a life\",\r\n",
        "    \"gcse\" : \"general certificate of secondary education\",\r\n",
        "    \"gfn\" : \"gone for now\",\r\n",
        "    \"gg\" : \"good game\",\r\n",
        "    \"gl\" : \"good luck\",\r\n",
        "    \"glhf\" : \"good luck have fun\",\r\n",
        "    \"gmt\" : \"greenwich mean time\",\r\n",
        "    \"gmta\" : \"great minds think alike\",\r\n",
        "    \"gn\" : \"good night\",\r\n",
        "    \"g.o.a.t\" : \"greatest of all time\",\r\n",
        "    \"goat\" : \"greatest of all time\",\r\n",
        "    \"goi\" : \"get over it\",\r\n",
        "    \"gps\" : \"global positioning system\",\r\n",
        "    \"gr8\" : \"great\",\r\n",
        "    \"gratz\" : \"congratulations\",\r\n",
        "    \"gyal\" : \"girl\",\r\n",
        "    \"h&c\" : \"hot and cold\",\r\n",
        "    \"hp\" : \"horsepower\",\r\n",
        "    \"hr\" : \"hour\",\r\n",
        "    \"hrh\" : \"his royal highness\",\r\n",
        "    \"ht\" : \"height\",\r\n",
        "    \"ibrb\" : \"i will be right back\",\r\n",
        "    \"ic\" : \"i see\",\r\n",
        "    \"icq\" : \"i seek you\",\r\n",
        "    \"icymi\" : \"in case you missed it\",\r\n",
        "    \"idc\" : \"i do not care\",\r\n",
        "    \"idgadf\" : \"i do not give a damn fuck\",\r\n",
        "    \"idgaf\" : \"i do not give a fuck\",\r\n",
        "    \"idk\" : \"i do not know\",\r\n",
        "    \"ie\" : \"that is\",\r\n",
        "    \"i.e\" : \"that is\",\r\n",
        "    \"ifyp\" : \"i feel your pain\",\r\n",
        "    \"IG\" : \"instagram\",\r\n",
        "    \"iirc\" : \"if i remember correctly\",\r\n",
        "    \"ilu\" : \"i love you\",\r\n",
        "    \"ily\" : \"i love you\",\r\n",
        "    \"imho\" : \"in my humble opinion\",\r\n",
        "    \"imo\" : \"in my opinion\",\r\n",
        "    \"imu\" : \"i miss you\",\r\n",
        "    \"iow\" : \"in other words\",\r\n",
        "    \"irl\" : \"in real life\",\r\n",
        "    \"j4f\" : \"just for fun\",\r\n",
        "    \"jic\" : \"just in case\",\r\n",
        "    \"jk\" : \"just kidding\",\r\n",
        "    \"jsyk\" : \"just so you know\",\r\n",
        "    \"l8r\" : \"later\",\r\n",
        "    \"lb\" : \"pound\",\r\n",
        "    \"lbs\" : \"pounds\",\r\n",
        "    \"ldr\" : \"long distance relationship\",\r\n",
        "    \"lmao\" : \"laugh my ass off\",\r\n",
        "    \"lmfao\" : \"laugh my fucking ass off\",\r\n",
        "    \"lol\" : \"laughing out loud\",\r\n",
        "    \"ltd\" : \"limited\",\r\n",
        "    \"ltns\" : \"long time no see\",\r\n",
        "    \"m8\" : \"mate\",\r\n",
        "    \"mf\" : \"motherfucker\",\r\n",
        "    \"mfs\" : \"motherfuckers\",\r\n",
        "    \"mfw\" : \"my face when\",\r\n",
        "    \"mofo\" : \"motherfucker\",\r\n",
        "    \"mph\" : \"miles per hour\",\r\n",
        "    \"mr\" : \"mister\",\r\n",
        "    \"mrw\" : \"my reaction when\",\r\n",
        "    \"ms\" : \"miss\",\r\n",
        "    \"mte\" : \"my thoughts exactly\",\r\n",
        "    \"nagi\" : \"not a good idea\",\r\n",
        "    \"nbc\" : \"national broadcasting company\",\r\n",
        "    \"nbd\" : \"not big deal\",\r\n",
        "    \"nfs\" : \"not for sale\",\r\n",
        "    \"ngl\" : \"not going to lie\",\r\n",
        "    \"nhs\" : \"national health service\",\r\n",
        "    \"nrn\" : \"no reply necessary\",\r\n",
        "    \"nsfl\" : \"not safe for life\",\r\n",
        "    \"nsfw\" : \"not safe for work\",\r\n",
        "    \"nth\" : \"nice to have\",\r\n",
        "    \"nvr\" : \"never\",\r\n",
        "    \"nyc\" : \"new york city\",\r\n",
        "    \"oc\" : \"original content\",\r\n",
        "    \"og\" : \"original\",\r\n",
        "    \"ohp\" : \"overhead projector\",\r\n",
        "    \"oic\" : \"oh i see\",\r\n",
        "    \"omdb\" : \"over my dead body\",\r\n",
        "    \"omg\" : \"oh my god\",\r\n",
        "    \"omw\" : \"on my way\",\r\n",
        "    \"p.a\" : \"per annum\",\r\n",
        "    \"p.m\" : \"after midday\",\r\n",
        "    \"pm\" : \"prime minister\",\r\n",
        "    \"poc\" : \"people of color\",\r\n",
        "    \"pov\" : \"point of view\",\r\n",
        "    \"pp\" : \"pages\",\r\n",
        "    \"ppl\" : \"people\",\r\n",
        "    \"prw\" : \"parents are watching\",\r\n",
        "    \"ps\" : \"postscript\",\r\n",
        "    \"pt\" : \"point\",\r\n",
        "    \"ptb\" : \"please text back\",\r\n",
        "    \"pto\" : \"please turn over\",\r\n",
        "    \"qpsa\" : \"what happens\", \r\n",
        "    \"ratchet\" : \"rude\",\r\n",
        "    \"rbtl\" : \"read between the lines\",\r\n",
        "    \"rlrt\" : \"real life retweet\", \r\n",
        "    \"rofl\" : \"rolling on the floor laughing\",\r\n",
        "    \"roflol\" : \"rolling on the floor laughing out loud\",\r\n",
        "    \"rotflmao\" : \"rolling on the floor laughing my ass off\",\r\n",
        "    \"rt\" : \"retweet\",\r\n",
        "    \"ruok\" : \"are you ok\",\r\n",
        "    \"sfw\" : \"safe for work\",\r\n",
        "     \"sk8\" : \"skate\",\r\n",
        "    \"smh\" : \"shake my head\",\r\n",
        "    \"sq\" : \"square\",\r\n",
        "    \"srsly\" : \"seriously\", \r\n",
        "    \"ssdd\" : \"same stuff different day\",\r\n",
        "    \"tbh\" : \"to be honest\",\r\n",
        "    \"tbs\" : \"tablespooful\",\r\n",
        "    \"tbsp\" : \"tablespooful\",\r\n",
        "    \"tfw\" : \"that feeling when\",\r\n",
        "    \"thks\" : \"thank you\",\r\n",
        "    \"tho\" : \"though\",\r\n",
        "    \"thx\" : \"thank you\",\r\n",
        "    \"tia\" : \"thanks in advance\",\r\n",
        "    \"til\" : \"today i learned\",\r\n",
        "    \"tl;dr\" : \"too long i did not read\",\r\n",
        "    \"tldr\" : \"too long i did not read\",\r\n",
        "    \"tmb\" : \"tweet me back\",\r\n",
        "    \"tntl\" : \"trying not to laugh\",\r\n",
        "    \"ttyl\" : \"talk to you later\",\r\n",
        "    \"u\" : \"you\",\r\n",
        "    \"u2\" : \"you too\",\r\n",
        "    \"u4e\" : \"yours for ever\",\r\n",
        "    \"utc\" : \"coordinated universal time\",\r\n",
        "    \"w/\" : \"with\",\r\n",
        "    \"w/o\" : \"without\",\r\n",
        "    \"w8\" : \"wait\",\r\n",
        "    \"wassup\" : \"what is up\",\r\n",
        "    \"wb\" : \"welcome back\",\r\n",
        "    \"wtf\" : \"what the fuck\",\r\n",
        "    \"wtg\" : \"way to go\",\r\n",
        "    \"wtpa\" : \"where the party at\",\r\n",
        "    \"wuf\" : \"where are you from\",\r\n",
        "    \"wuzup\" : \"what is up\",\r\n",
        "    \"wywh\" : \"wish you were here\",\r\n",
        "    \"yd\" : \"yard\",\r\n",
        "    \"ygtr\" : \"you got that right\",\r\n",
        "    \"ynk\" : \"you never know\",\r\n",
        "    \"zzz\" : \"sleeping bored and tired\"\r\n",
        "}\r\n",
        "\r\n",
        "def convert_abbrev_in_text(tweet :str):\r\n",
        "    '''\r\n",
        "    Convert the abbreviation referenced in this script to supposed meaning in the text.\r\n",
        "    Input:\r\n",
        "        tweet - text to be cleaned\r\n",
        "    Output:\r\n",
        "        tweet - cleaned text\r\n",
        "    '''\r\n",
        "    t=[]\r\n",
        "    words=tweet.split()\r\n",
        "    t = [abbreviations[w.lower()] if w.lower() in abbreviations.keys() else w for w in words]\r\n",
        "    \r\n",
        "    return ' '.join(t)  \r\n",
        "\r\n",
        "def clean(tweet :str): \r\n",
        "    '''\r\n",
        "    Clean the text by replacing contractions, mentions, hashtags, etc.\r\n",
        "    Input:\r\n",
        "        tweet - text to be cleaned\r\n",
        "    Output:\r\n",
        "        tweet - cleaned text\r\n",
        "    ''' \r\n",
        "    # Contractions\r\n",
        "    tweet = re.sub(r\"he's\", \"he is\", tweet)\r\n",
        "    tweet = re.sub(r\"there's\", \"there is\", tweet)\r\n",
        "    tweet = re.sub(r\"We're\", \"We are\", tweet)\r\n",
        "    tweet = re.sub(r\"That's\", \"That is\", tweet)\r\n",
        "    tweet = re.sub(r\"won't\", \"will not\", tweet)\r\n",
        "    tweet = re.sub(r\"they're\", \"they are\", tweet)\r\n",
        "    tweet = re.sub(r\"Can't\", \"Cannot\", tweet)\r\n",
        "    tweet = re.sub(r\"wasn't\", \"was not\", tweet)\r\n",
        "    tweet = re.sub(r\"don\\x89Ûªt\", \"do not\", tweet)\r\n",
        "    tweet = re.sub(r\"aren't\", \"are not\", tweet)\r\n",
        "    tweet = re.sub(r\"isn't\", \"is not\", tweet)\r\n",
        "    tweet = re.sub(r\"What's\", \"What is\", tweet)\r\n",
        "    tweet = re.sub(r\"haven't\", \"have not\", tweet)\r\n",
        "    tweet = re.sub(r\"hasn't\", \"has not\", tweet)\r\n",
        "    tweet = re.sub(r\"There's\", \"There is\", tweet)\r\n",
        "    tweet = re.sub(r\"He's\", \"He is\", tweet)\r\n",
        "    tweet = re.sub(r\"It's\", \"It is\", tweet)\r\n",
        "    tweet = re.sub(r\"You're\", \"You are\", tweet)\r\n",
        "    tweet = re.sub(r\"I'M\", \"I am\", tweet)\r\n",
        "    tweet = re.sub(r\"shouldn't\", \"should not\", tweet)\r\n",
        "    tweet = re.sub(r\"wouldn't\", \"would not\", tweet)\r\n",
        "    tweet = re.sub(r\"i'm\", \"I am\", tweet)\r\n",
        "    tweet = re.sub(r\"I\\x89Ûªm\", \"I am\", tweet)\r\n",
        "    tweet = re.sub(r\"I'm\", \"I am\", tweet)\r\n",
        "    tweet = re.sub(r\"Isn't\", \"is not\", tweet)\r\n",
        "    tweet = re.sub(r\"Here's\", \"Here is\", tweet)\r\n",
        "    tweet = re.sub(r\"you've\", \"you have\", tweet)\r\n",
        "    tweet = re.sub(r\"you\\x89Ûªve\", \"you have\", tweet)\r\n",
        "    tweet = re.sub(r\"we're\", \"we are\", tweet)\r\n",
        "    tweet = re.sub(r\"what's\", \"what is\", tweet)\r\n",
        "    tweet = re.sub(r\"couldn't\", \"could not\", tweet)\r\n",
        "    tweet = re.sub(r\"we've\", \"we have\", tweet)\r\n",
        "    tweet = re.sub(r\"it\\x89Ûªs\", \"it is\", tweet)\r\n",
        "    tweet = re.sub(r\"doesn\\x89Ûªt\", \"does not\", tweet)\r\n",
        "    tweet = re.sub(r\"It\\x89Ûªs\", \"It is\", tweet)\r\n",
        "    tweet = re.sub(r\"Here\\x89Ûªs\", \"Here is\", tweet)\r\n",
        "    tweet = re.sub(r\"who's\", \"who is\", tweet)\r\n",
        "    tweet = re.sub(r\"I\\x89Ûªve\", \"I have\", tweet)\r\n",
        "    tweet = re.sub(r\"y'all\", \"you all\", tweet)\r\n",
        "    tweet = re.sub(r\"can\\x89Ûªt\", \"cannot\", tweet)\r\n",
        "    tweet = re.sub(r\"would've\", \"would have\", tweet)\r\n",
        "    tweet = re.sub(r\"it'll\", \"it will\", tweet)\r\n",
        "    tweet = re.sub(r\"we'll\", \"we will\", tweet)\r\n",
        "    tweet = re.sub(r\"wouldn\\x89Ûªt\", \"would not\", tweet)\r\n",
        "    tweet = re.sub(r\"We've\", \"We have\", tweet)\r\n",
        "    tweet = re.sub(r\"he'll\", \"he will\", tweet)\r\n",
        "    tweet = re.sub(r\"Y'all\", \"You all\", tweet)\r\n",
        "    tweet = re.sub(r\"Weren't\", \"Were not\", tweet)\r\n",
        "    tweet = re.sub(r\"Didn't\", \"Did not\", tweet)\r\n",
        "    tweet = re.sub(r\"they'll\", \"they will\", tweet)\r\n",
        "    tweet = re.sub(r\"they'd\", \"they would\", tweet)\r\n",
        "    tweet = re.sub(r\"DON'T\", \"DO NOT\", tweet)\r\n",
        "    tweet = re.sub(r\"That\\x89Ûªs\", \"That is\", tweet)\r\n",
        "    tweet = re.sub(r\"they've\", \"they have\", tweet)\r\n",
        "    tweet = re.sub(r\"i'd\", \"I would\", tweet)\r\n",
        "    tweet = re.sub(r\"should've\", \"should have\", tweet)\r\n",
        "    tweet = re.sub(r\"You\\x89Ûªre\", \"You are\", tweet)\r\n",
        "    tweet = re.sub(r\"where's\", \"where is\", tweet)\r\n",
        "    tweet = re.sub(r\"Don\\x89Ûªt\", \"Do not\", tweet)\r\n",
        "    tweet = re.sub(r\"we'd\", \"we would\", tweet)\r\n",
        "    tweet = re.sub(r\"i'll\", \"I will\", tweet)\r\n",
        "    tweet = re.sub(r\"weren't\", \"were not\", tweet)\r\n",
        "    tweet = re.sub(r\"They're\", \"They are\", tweet)\r\n",
        "    tweet = re.sub(r\"Can\\x89Ûªt\", \"Cannot\", tweet)\r\n",
        "    tweet = re.sub(r\"you\\x89Ûªll\", \"you will\", tweet)\r\n",
        "    tweet = re.sub(r\"I\\x89Ûªd\", \"I would\", tweet)\r\n",
        "    tweet = re.sub(r\"let's\", \"let us\", tweet)\r\n",
        "    tweet = re.sub(r\"it's\", \"it is\", tweet)\r\n",
        "    tweet = re.sub(r\"can't\", \"cannot\", tweet)\r\n",
        "    tweet = re.sub(r\"don't\", \"do not\", tweet)\r\n",
        "    tweet = re.sub(r\"you're\", \"you are\", tweet)\r\n",
        "    tweet = re.sub(r\"i've\", \"I have\", tweet)\r\n",
        "    tweet = re.sub(r\"that's\", \"that is\", tweet)\r\n",
        "    tweet = re.sub(r\"i'll\", \"I will\", tweet)\r\n",
        "    tweet = re.sub(r\"doesn't\", \"does not\", tweet)\r\n",
        "    tweet = re.sub(r\"i'd\", \"I would\", tweet)\r\n",
        "    tweet = re.sub(r\"didn't\", \"did not\", tweet)\r\n",
        "    tweet = re.sub(r\"ain't\", \"am not\", tweet)\r\n",
        "    tweet = re.sub(r\"you'll\", \"you will\", tweet)\r\n",
        "    tweet = re.sub(r\"I've\", \"I have\", tweet)\r\n",
        "    tweet = re.sub(r\"Don't\", \"do not\", tweet)\r\n",
        "    tweet = re.sub(r\"I'll\", \"I will\", tweet)\r\n",
        "    tweet = re.sub(r\"I'd\", \"I would\", tweet)\r\n",
        "    tweet = re.sub(r\"Let's\", \"Let us\", tweet)\r\n",
        "    tweet = re.sub(r\"you'd\", \"You would\", tweet)\r\n",
        "    tweet = re.sub(r\"It's\", \"It is\", tweet)\r\n",
        "    tweet = re.sub(r\"Ain't\", \"am not\", tweet)\r\n",
        "    tweet = re.sub(r\"Haven't\", \"Have not\", tweet)\r\n",
        "    tweet = re.sub(r\"Could've\", \"Could have\", tweet)\r\n",
        "    tweet = re.sub(r\"youve\", \"you have\", tweet)  \r\n",
        "    tweet = re.sub(r\"donå«t\", \"do not\", tweet)  \r\n",
        "    tweet = re.sub(r\"some1\", \"someone\", tweet)\r\n",
        "    tweet = re.sub(r\"yrs\", \"years\", tweet)\r\n",
        "    tweet = re.sub(r\"hrs\", \"hours\", tweet)\r\n",
        "    tweet = re.sub(r\"2morow|2moro\", \"tomorrow\", tweet)\r\n",
        "    tweet = re.sub(r\"2day\", \"today\", tweet)\r\n",
        "    tweet = re.sub(r\"4got|4gotten\", \"forget\", tweet)\r\n",
        "    tweet = re.sub(r\"b-day|bday\", \"b-day\", tweet)\r\n",
        "    tweet = re.sub(r\"mother's\", \"mother\", tweet)\r\n",
        "    tweet = re.sub(r\"mom's\", \"mom\", tweet)\r\n",
        "    tweet = re.sub(r\"dad's\", \"dad\", tweet)\r\n",
        "    tweet = re.sub(r\"hahah|hahaha|hahahaha\", \"haha\", tweet)\r\n",
        "    tweet = re.sub(r\"lmao|lolz|rofl\", \"lol\", tweet)\r\n",
        "    tweet = re.sub(r\"thanx|thnx\", \"thanks\", tweet)\r\n",
        "    tweet = re.sub(r\"goood\", \"good\", tweet)\r\n",
        "    tweet = re.sub(r\"some1\", \"someone\", tweet)\r\n",
        "    tweet = re.sub(r\"some1\", \"someone\", tweet)\r\n",
        "    # Character entity references\r\n",
        "    tweet = re.sub(r\"&gt;\", \">\", tweet)\r\n",
        "    tweet = re.sub(r\"&lt;\", \"<\", tweet)\r\n",
        "    tweet = re.sub(r\"&amp;\", \"&\", tweet)\r\n",
        "    # Typos, slang and informal abbreviations\r\n",
        "    tweet = re.sub(r\"w/e\", \"whatever\", tweet)\r\n",
        "    tweet = re.sub(r\"w/\", \"with\", tweet)\r\n",
        "    tweet = re.sub(r\"<3\", \"love\", tweet)\r\n",
        "    # Urls\r\n",
        "    tweet = re.sub(r\"http\\S+\", \"\", tweet)\r\n",
        "    # Numbers\r\n",
        "    tweet = re.sub(r'[0-9]', '', tweet)\r\n",
        "    # Eliminating the mentions\r\n",
        "    tweet = re.sub(\"(@[A-Za-z0-9_]+)\",\"\", tweet)\r\n",
        "    tweet = re.sub('@[^\\s]+', ' ', tweet)\r\n",
        "    tweet = re.sub(r'[,!?;-]+', '', tweet)\r\n",
        "        \r\n",
        "    # ... and ..\r\n",
        "    tweet = tweet.replace('...', '')\r\n",
        "    if '...' not in tweet:\r\n",
        "        tweet = tweet.replace('..', '')\r\n",
        "    \r\n",
        "    # still unprocessed strings \r\n",
        "    tweet = tweet.replace('%', '')\r\n",
        "    tweet = tweet.replace('  ', '')\r\n",
        "        \r\n",
        "    return tweet    \r\n",
        " \r\n",
        "def tokenize(corpus :str):\r\n",
        "    '''\r\n",
        "    Tokenize the text.\r\n",
        "    Input:\r\n",
        "        corpus - text to be tokenized\r\n",
        "    Output:\r\n",
        "        token - tokenized corpus\r\n",
        "    '''\r\n",
        "    token = nltk.word_tokenize(corpus)  # tokenize string to words\r\n",
        "    token = [ch.lower() for ch in token if ch.isalpha()]\r\n",
        "    return token    \r\n",
        "\r\n",
        "def clean_one_token(token :str):\r\n",
        "    '''\r\n",
        "    Remove the stopwords, apply stemmization and lemmization.\r\n",
        "    Input:\r\n",
        "        token - token to be processed\r\n",
        "    Output:\r\n",
        "        clean_token - processed tokens\r\n",
        "    '''\r\n",
        "    # remove stopwords\r\n",
        "    cleaned_token = [word for word in token if not word in list(stopwords.words('english'))]\r\n",
        "    # revmove too short words (of length 1 or 2)\r\n",
        "    cleaned_token = [word for word in cleaned_token if len(word) > 2]\r\n",
        "    # stemming\r\n",
        "    stemmer = EnglishStemmer()\r\n",
        "    cleaned_token = [stemmer.stem(word) for word in cleaned_token]\r\n",
        "    # lemming\r\n",
        "    Word_Lemmatizer = WordNetLemmatizer()\r\n",
        "    cleaned_token = [Word_Lemmatizer.lemmatize(word) for word in cleaned_token]\r\n",
        "\r\n",
        "    if cleaned_token == []:\r\n",
        "      cleaned_token = np.nan\r\n",
        "\r\n",
        "    return cleaned_token\r\n",
        "\r\n",
        "def token_clean(tokens :list):\r\n",
        "    '''\r\n",
        "    Remove the stopwords, apply stemmization and lemmization for a list of tokens.\r\n",
        "    Input:\r\n",
        "        tokens - all tokens to be processed (list of list)\r\n",
        "    Output:\r\n",
        "        cleaned_tokens - processed tokens\r\n",
        "    '''\r\n",
        "    cleaned_tokens = [clean_one_token(tokens[i]) for i in range(len(tokens))]\r\n",
        "\r\n",
        "    return cleaned_tokens\r\n",
        "\r\n",
        "def data_preprocess(data :list):\r\n",
        "    '''\r\n",
        "    Make the preprocessing on the data (cleaning, tokenizing, stemming and lemming).\r\n",
        "    Input:\r\n",
        "        data - list of tweets\r\n",
        "    Output:\r\n",
        "        tokens - processed tokens\r\n",
        "    '''\r\n",
        "    cleaned_data = [convert_abbrev_in_text(clean(tweet)) for tweet in data]\r\n",
        "    tokens = [tokenize(tweet) for tweet in cleaned_data]\r\n",
        "    tokens = token_clean(tokens)\r\n",
        "    \r\n",
        "    return tokens\r\n",
        "\r\n",
        "def get_max_len(tab :list):\r\n",
        "  '''\r\n",
        "  Get the max length of tab values, tab supposely of dimension 2 at least for meaningful function.\r\n",
        "  Input: \r\n",
        "    tab - list of lists\r\n",
        "  Output:\r\n",
        "    max_len - the max length of the lists\r\n",
        "  '''\r\n",
        "  max_len = 0\r\n",
        "  for item in tab:\r\n",
        "    if len(item) > max_len:\r\n",
        "      max_len = len(item)\r\n",
        "  \r\n",
        "  return max_len\r\n",
        "\r\n",
        "def voc_vector(tokens :list):\r\n",
        "    '''\r\n",
        "    Create the vocabulary vector from the processed tokens.\r\n",
        "    Input:\r\n",
        "        tokens - processed tokens\r\n",
        "    Output:\r\n",
        "        voc - vocabulary vector\r\n",
        "    '''\r\n",
        "    \r\n",
        "    voc = [] # vocabulary vector\r\n",
        "    for token_list in tokens:\r\n",
        "        for word in token_list:\r\n",
        "            voc.append(word)\r\n",
        "\r\n",
        "    voc = sorted(set(voc)) # ordered list\r\n",
        "    \r\n",
        "    return voc\r\n",
        "\r\n",
        "def bags_of_words(tokens : list, voc :list):\r\n",
        "    '''\r\n",
        "    Create the bags of words of given tokens.\r\n",
        "    Inputs:\r\n",
        "        tokens\r\n",
        "        voc - vocabulary of tokens\r\n",
        "    Output:\r\n",
        "        bas_of_words\r\n",
        "    '''\r\n",
        "    \r\n",
        "    bags_of_words = []\r\n",
        "    for i,token_list in enumerate(tokens):\r\n",
        "        bags_of_words.append([])\r\n",
        "        freq = dict(nltk.FreqDist(token_list))\r\n",
        "        for word in voc:\r\n",
        "            if word in freq.keys():\r\n",
        "                bags_of_words[i].append(freq[word])\r\n",
        "            else:\r\n",
        "                bags_of_words[i].append(0)\r\n",
        "    \r\n",
        "    return bags_of_words\r\n",
        "\r\n",
        "## unused function in final solution but useful for early debbuging\r\n",
        "def pad_list(data :list, max_len :int):\r\n",
        "  '''\r\n",
        "  Pad to the right each list of the given data to the wanted length.\r\n",
        "  Inputs:\r\n",
        "    data - list of lists to be padded\r\n",
        "    max_len - wanted length\r\n",
        "  Output:\r\n",
        "    padded_tab - padded data\r\n",
        "  '''\r\n",
        "  padded_data = []\r\n",
        "  for token in data:\r\n",
        "    if (token == []):\r\n",
        "      token.append('<PAD>')\r\n",
        "    padded_token = np.pad(token, pad_width=(0, max_len-len(token)), mode='constant', constant_values=('<PAD>'))\r\n",
        "    padded_data.append(padded_token)\r\n",
        "\r\n",
        "  return padded_data\r\n"
      ],
      "execution_count": null,
      "outputs": []
    },
    {
      "cell_type": "markdown",
      "metadata": {
        "id": "jzMuboPC49GF"
      },
      "source": [
        "### **Data**\r\n",
        "\r\n",
        "---"
      ]
    },
    {
      "cell_type": "markdown",
      "metadata": {
        "id": "RaGpqNa7DGdR"
      },
      "source": [
        "The data is stored in a gdrive directory and is a labeled csv file. All information are thus retrieved in a DataFrame, then some of the labels are droped since there are of no use to the solution."
      ]
    },
    {
      "cell_type": "code",
      "metadata": {
        "id": "j1Wrtxut5AMt"
      },
      "source": [
        "# display original kaggle data\r\n",
        "labeled_data = pd.read_csv(\"gdrive/MyDrive/NLP_Project/training.1600000.processed.noemoticon.csv\", encoding = \"ISO-8859-1\", engine=\"python\")\r\n",
        "labeled_data.columns = [\"target\", \"time\", \"date\", \"query\", \"username\", \"text\"]\r\n",
        "labeled_data = labeled_data.drop(columns=[\"time\",\"date\",\"query\",\"username\"])"
      ],
      "execution_count": null,
      "outputs": []
    },
    {
      "cell_type": "markdown",
      "metadata": {
        "id": "7IKi33MjERJQ"
      },
      "source": [
        "Resuming all information on the resulting DataFrame object :"
      ]
    },
    {
      "cell_type": "code",
      "metadata": {
        "colab": {
          "base_uri": "https://localhost:8080/"
        },
        "id": "C_YfhydIvCaB",
        "outputId": "79ae74a5-0f0b-498f-a52d-776538c706e3"
      },
      "source": [
        "labeled_data.info()"
      ],
      "execution_count": null,
      "outputs": [
        {
          "output_type": "stream",
          "text": [
            "<class 'pandas.core.frame.DataFrame'>\n",
            "RangeIndex: 1599999 entries, 0 to 1599998\n",
            "Data columns (total 2 columns):\n",
            " #   Column  Non-Null Count    Dtype \n",
            "---  ------  --------------    ----- \n",
            " 0   target  1599999 non-null  int64 \n",
            " 1   text    1599999 non-null  object\n",
            "dtypes: int64(1), object(1)\n",
            "memory usage: 24.4+ MB\n"
          ],
          "name": "stdout"
        }
      ]
    },
    {
      "cell_type": "markdown",
      "metadata": {
        "id": "SPR9IecYEYpK"
      },
      "source": [
        "There are a total of 1,599,999 tweet in this DataFrame, which is great deal of possible training asset. In this solution, all of the tweets would not be used as it may eat all the RAM or simply bring too long computations.\r\n",
        "\r\n",
        "It is now possible to see how the data looks like : tweets as strings and their target sentiment (0 if negative, 4 if positive)."
      ]
    },
    {
      "cell_type": "markdown",
      "metadata": {
        "id": "AyVzpkznExTd"
      },
      "source": [
        "First, the start of the data..."
      ]
    },
    {
      "cell_type": "code",
      "metadata": {
        "colab": {
          "base_uri": "https://localhost:8080/"
        },
        "id": "ThfEmn90-i9g",
        "outputId": "0e7632ef-2075-47d0-fccc-34492bb39a90"
      },
      "source": [
        "labeled_data.head()"
      ],
      "execution_count": null,
      "outputs": [
        {
          "output_type": "execute_result",
          "data": {
            "text/html": [
              "<div>\n",
              "<style scoped>\n",
              "    .dataframe tbody tr th:only-of-type {\n",
              "        vertical-align: middle;\n",
              "    }\n",
              "\n",
              "    .dataframe tbody tr th {\n",
              "        vertical-align: top;\n",
              "    }\n",
              "\n",
              "    .dataframe thead th {\n",
              "        text-align: right;\n",
              "    }\n",
              "</style>\n",
              "<table border=\"1\" class=\"dataframe\">\n",
              "  <thead>\n",
              "    <tr style=\"text-align: right;\">\n",
              "      <th></th>\n",
              "      <th>target</th>\n",
              "      <th>text</th>\n",
              "    </tr>\n",
              "  </thead>\n",
              "  <tbody>\n",
              "    <tr>\n",
              "      <th>0</th>\n",
              "      <td>0</td>\n",
              "      <td>is upset that he can't update his Facebook by ...</td>\n",
              "    </tr>\n",
              "    <tr>\n",
              "      <th>1</th>\n",
              "      <td>0</td>\n",
              "      <td>@Kenichan I dived many times for the ball. Man...</td>\n",
              "    </tr>\n",
              "    <tr>\n",
              "      <th>2</th>\n",
              "      <td>0</td>\n",
              "      <td>my whole body feels itchy and like its on fire</td>\n",
              "    </tr>\n",
              "    <tr>\n",
              "      <th>3</th>\n",
              "      <td>0</td>\n",
              "      <td>@nationwideclass no, it's not behaving at all....</td>\n",
              "    </tr>\n",
              "    <tr>\n",
              "      <th>4</th>\n",
              "      <td>0</td>\n",
              "      <td>@Kwesidei not the whole crew</td>\n",
              "    </tr>\n",
              "  </tbody>\n",
              "</table>\n",
              "</div>"
            ],
            "text/plain": [
              "   target                                               text\n",
              "0       0  is upset that he can't update his Facebook by ...\n",
              "1       0  @Kenichan I dived many times for the ball. Man...\n",
              "2       0    my whole body feels itchy and like its on fire \n",
              "3       0  @nationwideclass no, it's not behaving at all....\n",
              "4       0                      @Kwesidei not the whole crew "
            ]
          },
          "metadata": {
            "tags": []
          },
          "execution_count": 165
        }
      ]
    },
    {
      "cell_type": "markdown",
      "metadata": {
        "id": "OgikBV9iE0Zu"
      },
      "source": [
        "...and then the end."
      ]
    },
    {
      "cell_type": "code",
      "metadata": {
        "colab": {
          "base_uri": "https://localhost:8080/"
        },
        "id": "4rZVwCgLHKFH",
        "outputId": "3452fb5e-d307-4ff0-c0cd-1584d7d29db1"
      },
      "source": [
        "labeled_data.tail()"
      ],
      "execution_count": null,
      "outputs": [
        {
          "output_type": "execute_result",
          "data": {
            "text/html": [
              "<div>\n",
              "<style scoped>\n",
              "    .dataframe tbody tr th:only-of-type {\n",
              "        vertical-align: middle;\n",
              "    }\n",
              "\n",
              "    .dataframe tbody tr th {\n",
              "        vertical-align: top;\n",
              "    }\n",
              "\n",
              "    .dataframe thead th {\n",
              "        text-align: right;\n",
              "    }\n",
              "</style>\n",
              "<table border=\"1\" class=\"dataframe\">\n",
              "  <thead>\n",
              "    <tr style=\"text-align: right;\">\n",
              "      <th></th>\n",
              "      <th>target</th>\n",
              "      <th>text</th>\n",
              "    </tr>\n",
              "  </thead>\n",
              "  <tbody>\n",
              "    <tr>\n",
              "      <th>1599994</th>\n",
              "      <td>4</td>\n",
              "      <td>Just woke up. Having no school is the best fee...</td>\n",
              "    </tr>\n",
              "    <tr>\n",
              "      <th>1599995</th>\n",
              "      <td>4</td>\n",
              "      <td>TheWDB.com - Very cool to hear old Walt interv...</td>\n",
              "    </tr>\n",
              "    <tr>\n",
              "      <th>1599996</th>\n",
              "      <td>4</td>\n",
              "      <td>Are you ready for your MoJo Makeover? Ask me f...</td>\n",
              "    </tr>\n",
              "    <tr>\n",
              "      <th>1599997</th>\n",
              "      <td>4</td>\n",
              "      <td>Happy 38th Birthday to my boo of alll time!!! ...</td>\n",
              "    </tr>\n",
              "    <tr>\n",
              "      <th>1599998</th>\n",
              "      <td>4</td>\n",
              "      <td>happy #charitytuesday @theNSPCC @SparksCharity...</td>\n",
              "    </tr>\n",
              "  </tbody>\n",
              "</table>\n",
              "</div>"
            ],
            "text/plain": [
              "         target                                               text\n",
              "1599994       4  Just woke up. Having no school is the best fee...\n",
              "1599995       4  TheWDB.com - Very cool to hear old Walt interv...\n",
              "1599996       4  Are you ready for your MoJo Makeover? Ask me f...\n",
              "1599997       4  Happy 38th Birthday to my boo of alll time!!! ...\n",
              "1599998       4  happy #charitytuesday @theNSPCC @SparksCharity..."
            ]
          },
          "metadata": {
            "tags": []
          },
          "execution_count": 166
        }
      ]
    },
    {
      "cell_type": "markdown",
      "metadata": {
        "id": "SZYL8tPXE3wU"
      },
      "source": [
        "Exemple of a tweet that will need to be processed :"
      ]
    },
    {
      "cell_type": "code",
      "metadata": {
        "colab": {
          "base_uri": "https://localhost:8080/"
        },
        "id": "CwlKFwbaDA9-",
        "outputId": "e3d0dc37-b6f6-46f3-ab14-a0c0998241a4"
      },
      "source": [
        "labeled_data['text'][1]"
      ],
      "execution_count": null,
      "outputs": [
        {
          "output_type": "execute_result",
          "data": {
            "application/vnd.google.colaboratory.intrinsic+json": {
              "type": "string"
            },
            "text/plain": [
              "'@Kenichan I dived many times for the ball. Managed to save 50%  The rest go out of bounds'"
            ]
          },
          "metadata": {
            "tags": []
          },
          "execution_count": 167
        }
      ]
    },
    {
      "cell_type": "markdown",
      "metadata": {
        "id": "-Y-8yP-TDW2v"
      },
      "source": [
        "### **Preprocessing**\r\n",
        "\r\n",
        "This part will take care of the raw data that has been loaded : from simple cleaning to tokenization and usable data.\r\n",
        "\r\n",
        "Moreover, this processing is for english text only.\r\n",
        "\r\n",
        "---"
      ]
    },
    {
      "cell_type": "markdown",
      "metadata": {
        "id": "Q9jG167SMbtp"
      },
      "source": [
        "The processing is as follow :\r\n",
        "\r\n",
        "* Take care of the abbreviations and contractions of english words ;\r\n",
        "* Tokenize the tweets ;\r\n",
        "* Stemming and lemming on the words."
      ]
    },
    {
      "cell_type": "markdown",
      "metadata": {
        "id": "YwQK6jkrJ32T"
      },
      "source": [
        "##### Test on single tweet\r\n",
        "\r\n",
        "This part helps to debugg the preprocessing function and see the changes on a tweet."
      ]
    },
    {
      "cell_type": "markdown",
      "metadata": {
        "id": "sKX-lhWFRNdY"
      },
      "source": [
        "A random tweet is chosen (arbitrary choice: first tweet) and is cleaned as a string :"
      ]
    },
    {
      "cell_type": "code",
      "metadata": {
        "colab": {
          "base_uri": "https://localhost:8080/"
        },
        "id": "gbDSKM0SMoIK",
        "outputId": "a74f91d9-87d4-4cbd-fbd5-1bbae58402f9"
      },
      "source": [
        "corpus = clean(labeled_data['text'][0]) # pre-clean (contractions, mentions, hashtags, etc.)\r\n",
        "corpus = convert_abbrev_in_text(corpus) # pre-clean (known abbreviations)\r\n",
        "corpus"
      ],
      "execution_count": null,
      "outputs": [
        {
          "output_type": "execute_result",
          "data": {
            "application/vnd.google.colaboratory.intrinsic+json": {
              "type": "string"
            },
            "text/plain": [
              "'is upset that he cannot update his Facebook by texting it and might cry as a resultSchool today also. Blah'"
            ]
          },
          "metadata": {
            "tags": []
          },
          "execution_count": 168
        }
      ]
    },
    {
      "cell_type": "markdown",
      "metadata": {
        "id": "jsO_tlfuR3oD"
      },
      "source": [
        "Then the tweet is tokenized and cleaned afterwards :"
      ]
    },
    {
      "cell_type": "code",
      "metadata": {
        "colab": {
          "base_uri": "https://localhost:8080/"
        },
        "id": "1yhIq3QgGhcD",
        "outputId": "c7b8f43e-7ed7-4d55-8381-1e4a143c9011"
      },
      "source": [
        "token_corpus = tokenize(corpus) # tokenization\r\n",
        "token_corpus = token_clean([token_corpus]) # after-clean (stopwords and other)\r\n",
        "token_corpus"
      ],
      "execution_count": null,
      "outputs": [
        {
          "output_type": "execute_result",
          "data": {
            "text/plain": [
              "[['upset',\n",
              "  'updat',\n",
              "  'facebook',\n",
              "  'text',\n",
              "  'might',\n",
              "  'cri',\n",
              "  'resultschool',\n",
              "  'today',\n",
              "  'also',\n",
              "  'blah']]"
            ]
          },
          "metadata": {
            "tags": []
          },
          "execution_count": 169
        }
      ]
    },
    {
      "cell_type": "markdown",
      "metadata": {
        "id": "GeBrgWc0J_or"
      },
      "source": [
        "##### Preprocessing on whole data set\r\n",
        "\r\n",
        "After trying the different function on a single tweet and maling sure those are working properly, this preprocessing can be done on the whole dataset. It will then be stored as a csv file in a gdrive directory as the computation take a long time to be done."
      ]
    },
    {
      "cell_type": "code",
      "metadata": {
        "id": "rJSv1FAZGphi"
      },
      "source": [
        "def get_processed_data(load_csv=True):\r\n",
        "  '''\r\n",
        "   Load from the given path the processed data or process the data.\r\n",
        "   Inputs:\r\n",
        "    path - file path of processed data\r\n",
        "    load - bool true if loaded from dir\r\n",
        "  Output:\r\n",
        "    preprocessed_data - the resulting dataframe\r\n",
        "  '''\r\n",
        "  if load_csv :\r\n",
        "    preprocessed_data = pd.read_csv('gdrive/MyDrive/NLP_Project/cleaned_tweets.csv')\r\n",
        "    # Cast to List the text in dataFrame\r\n",
        "    preprocessed_data.text = preprocessed_data.text.apply(eval)\r\n",
        "\r\n",
        "  else :\r\n",
        "    # Process the initial data \r\n",
        "    tokens = data_preprocess(labeled_data['text'])\r\n",
        "\r\n",
        "    # Create new dataframe with processed data\r\n",
        "    preprocessed_data = pd.DataFrame(columns=['target','text'])\r\n",
        "    preprocessed_data['target'] = labeled_data['target']  # assign values to corresponding column\r\n",
        "    preprocessed_data['text'] = tokens # (is assigned as strings)\r\n",
        "\r\n",
        "    # Remove empty lists\r\n",
        "    preprocessed_data.dropna(subset=['text'], inplace=True) # nan values are assigned in the tokenization process if a list is empty\r\n",
        "    # Replace 0 by 0 and 4 by 1 for binary target data\r\n",
        "    preprocessed_data['target'].replace([4, 0],[1, 0], inplace=True) \r\n",
        "    preprocessed_data.to_csv('gdrive/MyDrive/NLP_Project/cleaned_tweets.csv', index=False)\r\n",
        "\r\n",
        "  return preprocessed_data"
      ],
      "execution_count": null,
      "outputs": []
    },
    {
      "cell_type": "markdown",
      "metadata": {
        "id": "Ec09fv3BTXWy"
      },
      "source": [
        "The above function is used to load the preprocessed data or to compute it."
      ]
    },
    {
      "cell_type": "code",
      "metadata": {
        "id": "im6ukCa37LZF"
      },
      "source": [
        "preprocessed_data = get_processed_data(True)"
      ],
      "execution_count": null,
      "outputs": []
    },
    {
      "cell_type": "markdown",
      "metadata": {
        "id": "9VhQGaXETgMu"
      },
      "source": [
        "We can then see the data : first tweets..."
      ]
    },
    {
      "cell_type": "code",
      "metadata": {
        "colab": {
          "base_uri": "https://localhost:8080/",
          "height": 207
        },
        "id": "KA4_5BoO-2xh",
        "outputId": "6fd9eb0f-3ef6-415c-e0b0-d8a05c0dcf9f"
      },
      "source": [
        "preprocessed_data.head()"
      ],
      "execution_count": null,
      "outputs": [
        {
          "output_type": "execute_result",
          "data": {
            "text/html": [
              "<div>\n",
              "<style scoped>\n",
              "    .dataframe tbody tr th:only-of-type {\n",
              "        vertical-align: middle;\n",
              "    }\n",
              "\n",
              "    .dataframe tbody tr th {\n",
              "        vertical-align: top;\n",
              "    }\n",
              "\n",
              "    .dataframe thead th {\n",
              "        text-align: right;\n",
              "    }\n",
              "</style>\n",
              "<table border=\"1\" class=\"dataframe\">\n",
              "  <thead>\n",
              "    <tr style=\"text-align: right;\">\n",
              "      <th></th>\n",
              "      <th>target</th>\n",
              "      <th>text</th>\n",
              "    </tr>\n",
              "  </thead>\n",
              "  <tbody>\n",
              "    <tr>\n",
              "      <th>0</th>\n",
              "      <td>0</td>\n",
              "      <td>[upset, updat, facebook, text, might, cri, res...</td>\n",
              "    </tr>\n",
              "    <tr>\n",
              "      <th>1</th>\n",
              "      <td>0</td>\n",
              "      <td>[dive, mani, time, ball, manag, save, rest, bo...</td>\n",
              "    </tr>\n",
              "    <tr>\n",
              "      <th>2</th>\n",
              "      <td>0</td>\n",
              "      <td>[whole, bodi, feel, itchi, like, fire]</td>\n",
              "    </tr>\n",
              "    <tr>\n",
              "      <th>3</th>\n",
              "      <td>0</td>\n",
              "      <td>[behav, mad, see]</td>\n",
              "    </tr>\n",
              "    <tr>\n",
              "      <th>4</th>\n",
              "      <td>0</td>\n",
              "      <td>[whole, crew]</td>\n",
              "    </tr>\n",
              "  </tbody>\n",
              "</table>\n",
              "</div>"
            ],
            "text/plain": [
              "   target                                               text\n",
              "0       0  [upset, updat, facebook, text, might, cri, res...\n",
              "1       0  [dive, mani, time, ball, manag, save, rest, bo...\n",
              "2       0             [whole, bodi, feel, itchi, like, fire]\n",
              "3       0                                  [behav, mad, see]\n",
              "4       0                                      [whole, crew]"
            ]
          },
          "metadata": {
            "tags": []
          },
          "execution_count": 195
        }
      ]
    },
    {
      "cell_type": "markdown",
      "metadata": {
        "id": "SJQf5eieTn2q"
      },
      "source": [
        "... and last tweets."
      ]
    },
    {
      "cell_type": "code",
      "metadata": {
        "colab": {
          "base_uri": "https://localhost:8080/",
          "height": 207
        },
        "id": "Uh0X1GsHY6oQ",
        "outputId": "31f322f9-71f4-4c1b-ac38-ac74e1854ed0"
      },
      "source": [
        "preprocessed_data.tail()"
      ],
      "execution_count": null,
      "outputs": [
        {
          "output_type": "execute_result",
          "data": {
            "text/html": [
              "<div>\n",
              "<style scoped>\n",
              "    .dataframe tbody tr th:only-of-type {\n",
              "        vertical-align: middle;\n",
              "    }\n",
              "\n",
              "    .dataframe tbody tr th {\n",
              "        vertical-align: top;\n",
              "    }\n",
              "\n",
              "    .dataframe thead th {\n",
              "        text-align: right;\n",
              "    }\n",
              "</style>\n",
              "<table border=\"1\" class=\"dataframe\">\n",
              "  <thead>\n",
              "    <tr style=\"text-align: right;\">\n",
              "      <th></th>\n",
              "      <th>target</th>\n",
              "      <th>text</th>\n",
              "    </tr>\n",
              "  </thead>\n",
              "  <tbody>\n",
              "    <tr>\n",
              "      <th>1588500</th>\n",
              "      <td>1</td>\n",
              "      <td>[woke, school, best, feel, ever]</td>\n",
              "    </tr>\n",
              "    <tr>\n",
              "      <th>1588501</th>\n",
              "      <td>1</td>\n",
              "      <td>[cool, hear, old, walt]</td>\n",
              "    </tr>\n",
              "    <tr>\n",
              "      <th>1588502</th>\n",
              "      <td>1</td>\n",
              "      <td>[readi, mojo, makeov, ask, detail]</td>\n",
              "    </tr>\n",
              "    <tr>\n",
              "      <th>1588503</th>\n",
              "      <td>1</td>\n",
              "      <td>[happi, birthday, boo, alll, time, tupac, amar...</td>\n",
              "    </tr>\n",
              "    <tr>\n",
              "      <th>1588504</th>\n",
              "      <td>1</td>\n",
              "      <td>[happi, charitytuesday]</td>\n",
              "    </tr>\n",
              "  </tbody>\n",
              "</table>\n",
              "</div>"
            ],
            "text/plain": [
              "         target                                               text\n",
              "1588500       1                   [woke, school, best, feel, ever]\n",
              "1588501       1                            [cool, hear, old, walt]\n",
              "1588502       1                 [readi, mojo, makeov, ask, detail]\n",
              "1588503       1  [happi, birthday, boo, alll, time, tupac, amar...\n",
              "1588504       1                            [happi, charitytuesday]"
            ]
          },
          "metadata": {
            "tags": []
          },
          "execution_count": 196
        }
      ]
    },
    {
      "cell_type": "markdown",
      "metadata": {
        "id": "yf9FSgSRTqMB"
      },
      "source": [
        "We can see that the text data is of List type, as computed."
      ]
    },
    {
      "cell_type": "code",
      "metadata": {
        "colab": {
          "base_uri": "https://localhost:8080/"
        },
        "id": "_ncSYsqzT0sJ",
        "outputId": "b070bd32-591d-4e41-e177-e2f35f0a2270"
      },
      "source": [
        "type(preprocessed_data.text[0])"
      ],
      "execution_count": null,
      "outputs": [
        {
          "output_type": "execute_result",
          "data": {
            "text/plain": [
              "list"
            ]
          },
          "metadata": {
            "tags": []
          },
          "execution_count": 197
        }
      ]
    },
    {
      "cell_type": "markdown",
      "metadata": {
        "id": "vccIGn_AKjVe"
      },
      "source": [
        "### **AI Model**\r\n",
        "\r\n",
        "4 models are computed and trained to make the sentiment rpediction on a given tweets : \r\n",
        "\r\n",
        "* **BOW** : uses the bags of words of a tweet ;\r\n",
        "* **TF-IDF** : uses Term Frequency-Inverse Document Frequency of a tweet, giving more information on each words as floats ;\r\n",
        "* **LSTM** : Long-Short Term Memory ;\r\n",
        "* **LSTM GloVe** : Long-Short Term Memory with use of the Global Vectors for Word Representation dataset.\r\n",
        "\r\n",
        "---"
      ]
    },
    {
      "cell_type": "markdown",
      "metadata": {
        "id": "nh3aAp6qKvnm"
      },
      "source": [
        "#### Input\r\n",
        "\r\n",
        "This section is to assign the target and input data to X and Y variables, that are then cast to numpy array."
      ]
    },
    {
      "cell_type": "code",
      "metadata": {
        "colab": {
          "base_uri": "https://localhost:8080/"
        },
        "id": "2UgDZyHTJfuI",
        "outputId": "0f0bdd79-bfc4-458e-f909-b2096bc6e5a8"
      },
      "source": [
        "# Input\r\n",
        "X = preprocessed_data.text\r\n",
        "X = np.array(X)\r\n",
        "\r\n",
        "# Target of the input\r\n",
        "Y = preprocessed_data.target\r\n",
        "Y = np.array(Y)\r\n",
        "\r\n",
        "max_len_X = get_max_len(X)\r\n",
        "print('input length :', len(X))\r\n",
        "print('max length of tweets :', max_len_X)"
      ],
      "execution_count": null,
      "outputs": [
        {
          "output_type": "stream",
          "text": [
            "input length : 1588505\n",
            "max length of tweets : 30\n"
          ],
          "name": "stdout"
        }
      ]
    },
    {
      "cell_type": "markdown",
      "metadata": {
        "id": "8iiVbsGWChOj"
      },
      "source": [
        "We reduce length of input to 4000 tweets in order to make the computations. Otherwise, all the RAM will be used and the models would not be able to make their needed calculations."
      ]
    },
    {
      "cell_type": "code",
      "metadata": {
        "colab": {
          "base_uri": "https://localhost:8080/"
        },
        "id": "VQa_chApCgZ3",
        "outputId": "8c94e68c-fbae-49b4-e856-dcba99a141cd"
      },
      "source": [
        "# The reduced input takes 2000 negative tweets and 2000 posituve ones\r\n",
        "concat_X = np.concatenate((X[:2000], X[-2000:]), axis=None)\r\n",
        "print(concat_X[0])\r\n",
        "print(concat_X[-1])\r\n",
        "\r\n",
        "# The corresponding target are assembled in a same manner\r\n",
        "concat_Y = np.concatenate((Y[:2000], Y[-2000:]), axis=None)\r\n",
        "concat_Y[-2000:] = 1\r\n",
        "print(concat_Y[0])\r\n",
        "print(concat_Y[-1])\r\n",
        "\r\n",
        "\r\n",
        "max_len_concat_X = get_max_len(concat_X)\r\n",
        "print('Max length of a tweet in the reduced input :', max_len_concat_X)"
      ],
      "execution_count": null,
      "outputs": [
        {
          "output_type": "stream",
          "text": [
            "['upset', 'updat', 'facebook', 'text', 'might', 'cri', 'resultschool', 'today', 'also', 'blah']\n",
            "['happi', 'charitytuesday']\n",
            "0\n",
            "1\n",
            "Max length of a tweet in the reduced input : 19\n"
          ],
          "name": "stdout"
        }
      ]
    },
    {
      "cell_type": "markdown",
      "metadata": {
        "id": "_BVCqglmsQW_"
      },
      "source": [
        "#### **BOW**\r\n",
        "\r\n",
        "The model using the bags of words representation is a simple classifier : a Desicion Tree.\r\n",
        "\r\n",
        "With a bag of words representation, the words are transposed as a sequence of numbers which is the frequency of each word of the tweet given a vocabulary vector. The vocabulary vectore is obtained on the reduced input data we selected. "
      ]
    },
    {
      "cell_type": "markdown",
      "metadata": {
        "id": "iuxHPqVw-zVz"
      },
      "source": [
        "Bags of words"
      ]
    },
    {
      "cell_type": "code",
      "metadata": {
        "id": "RS5eLQfP252H"
      },
      "source": [
        "def load_voc(input_values=-1, is_loaded=True):\r\n",
        "  '''\r\n",
        "  Load or create the vocabulary vector.\r\n",
        "  Inputs:\r\n",
        "    is_loaded - True if the vector is loaded from its storage directory\r\n",
        "    input_values - input values for vector computation\r\n",
        "  Ouput:\r\n",
        "    voc - the vocabulary vector as a DataFrame\r\n",
        "  '''\r\n",
        "  voc = -1\r\n",
        "  if is_loaded:\r\n",
        "    voc = pd.read_csv('gdrive/MyDrive/NLP_Project/models/bow/voc_vector.csv')\r\n",
        "\r\n",
        "  elif type(input_values)!=int and not is_loaded:\r\n",
        "    voc = voc_vector(input_values)\r\n",
        "\r\n",
        "  return voc"
      ],
      "execution_count": null,
      "outputs": []
    },
    {
      "cell_type": "code",
      "metadata": {
        "colab": {
          "base_uri": "https://localhost:8080/"
        },
        "id": "JowFp29C_CC4",
        "outputId": "dbf85423-294d-4e20-af85-cf1cdb672bb8"
      },
      "source": [
        "# Vocabulary vector for the bow model from reduced input data\r\n",
        "bow_voc = load_voc(input_values=concat_X, is_loaded=False)\r\n",
        "\r\n",
        "# The bags of words representation for each tweet is calculated\r\n",
        "bow_X = bags_of_words(concat_X, bow_voc) # X\r\n",
        "bow_Y = concat_Y # Y still the same\r\n",
        "\r\n",
        "print('Length of the vocabulaty vector :', len(bow_voc))"
      ],
      "execution_count": null,
      "outputs": [
        {
          "output_type": "stream",
          "text": [
            "Length of the vocabulaty vector : 6798\n"
          ],
          "name": "stdout"
        }
      ]
    },
    {
      "cell_type": "markdown",
      "metadata": {
        "id": "rqipS625XfWm"
      },
      "source": [
        "It is necessary to save the vocabulary vector used by the BOW model since it depends on it. Consequently, in the pipeline this vector will needed to calculate its bag of words representation. "
      ]
    },
    {
      "cell_type": "code",
      "metadata": {
        "id": "uDWG_0zIwvjk"
      },
      "source": [
        "# Save to csv the voc vector for use in pipeline\r\n",
        "save = False # for safety\r\n",
        "if save:\r\n",
        "  voc = pd.DataFrame(bow_voc) # cast to DataFrame for csv saving\r\n",
        "  voc.to_csv('gdrive/MyDrive/NLP_Project/models/bow/voc_vector.csv', index=False) # save the vocabulary vector as csv in gdrive directory"
      ],
      "execution_count": null,
      "outputs": []
    },
    {
      "cell_type": "markdown",
      "metadata": {
        "id": "44elJFDDX_V7"
      },
      "source": [
        "With preparation done, we can separate the input data in training and validation data. "
      ]
    },
    {
      "cell_type": "code",
      "metadata": {
        "colab": {
          "base_uri": "https://localhost:8080/"
        },
        "id": "Q9-RWNfg_pc1",
        "outputId": "242f2a9c-c917-48e3-f3de-d5fafb71b766"
      },
      "source": [
        "bow_X_train, bow_X_test, bow_Y_train, bow_Y_test = train_test_split(bow_X, concat_Y, random_state = 0) # by default shuffle = True\r\n",
        "print('Training data length :', len(bow_X_train))\r\n",
        "print('Valdiation data length :', len(bow_X_test))"
      ],
      "execution_count": null,
      "outputs": [
        {
          "output_type": "stream",
          "text": [
            "Training data length : 3000\n",
            "Valdiation data length : 1000\n"
          ],
          "name": "stdout"
        }
      ]
    },
    {
      "cell_type": "markdown",
      "metadata": {
        "id": "3V8U0OzpKHbk"
      },
      "source": [
        "Afterwards, the model is created and trained on the input we selected."
      ]
    },
    {
      "cell_type": "code",
      "metadata": {
        "id": "5EcAJjsnZcJF"
      },
      "source": [
        "def load_bow_clf(is_loaded=True, bow_X_train=-1, bow_Y_train=-1):\r\n",
        "  '''\r\n",
        "  Load or initialize/fit the BOW classifier.\r\n",
        "  Input:\r\n",
        "    is_loaded - True if the classifier is loaded from its storage directory\r\n",
        "  Output:\r\n",
        "    bow_clf - the BOW classifier\r\n",
        "  '''\r\n",
        "  bow_clf = -1\r\n",
        "  if is_loaded:\r\n",
        "    bow_clf = load('gdrive/MyDrive/NLP_Project/models/bow/bow_model.joblib')\r\n",
        "\r\n",
        "  elif not is_loaded and type(bow_X_train)!=int and type(bow_Y_train)!=int:\r\n",
        "    # Create the classifier model\r\n",
        "    bow_clf = DecisionTreeClassifier(random_state=0)\r\n",
        "    # Train\r\n",
        "    bow_clf.fit(bow_X_train, bow_Y_train)\r\n",
        "  \r\n",
        "  return bow_clf\r\n"
      ],
      "execution_count": null,
      "outputs": []
    },
    {
      "cell_type": "code",
      "metadata": {
        "id": "XhQOfU5ssZtX"
      },
      "source": [
        "# Load or create/train the classifier model\r\n",
        "train = False # for safety\r\n",
        "is_load = not train\r\n",
        "\r\n",
        "bow_clf = load_bow_clf(is_load, bow_X_train, bow_Y_train)"
      ],
      "execution_count": null,
      "outputs": []
    },
    {
      "cell_type": "markdown",
      "metadata": {
        "id": "MmAq1RZCYhv2"
      },
      "source": [
        "The BOW model is saved in a gdrive directory for later use in the pipeline solution."
      ]
    },
    {
      "cell_type": "code",
      "metadata": {
        "id": "m2qPETxCmfJj"
      },
      "source": [
        "if train: # for safety\r\n",
        "  dump(bow_clf, 'gdrive/MyDrive/NLP_Project/models/bow/bow_model.joblib')"
      ],
      "execution_count": null,
      "outputs": []
    },
    {
      "cell_type": "markdown",
      "metadata": {
        "id": "iIzviFeuYosG"
      },
      "source": [
        "Predictions can be thus made, giving us an idea of its accuracy and efficiency."
      ]
    },
    {
      "cell_type": "code",
      "metadata": {
        "colab": {
          "base_uri": "https://localhost:8080/"
        },
        "id": "82PFjHzxBepY",
        "outputId": "88c161b4-18c8-4c1b-e34b-43a01a05d704"
      },
      "source": [
        "predictions = bow_clf.predict(bow_X_test)\r\n",
        "\r\n",
        "# Visual mesures of the model\r\n",
        "print(confusion_matrix(bow_Y_test,predictions))   #  confusion matrix\r\n",
        "print(classification_report(bow_Y_test,predictions))  # report\r\n",
        "print(accuracy_score(bow_Y_test, predictions))  # mean accuracy score"
      ],
      "execution_count": null,
      "outputs": [
        {
          "output_type": "stream",
          "text": [
            "[[306 202]\n",
            " [150 342]]\n",
            "              precision    recall  f1-score   support\n",
            "\n",
            "           0       0.67      0.60      0.63       508\n",
            "           1       0.63      0.70      0.66       492\n",
            "\n",
            "    accuracy                           0.65      1000\n",
            "   macro avg       0.65      0.65      0.65      1000\n",
            "weighted avg       0.65      0.65      0.65      1000\n",
            "\n",
            "0.648\n"
          ],
          "name": "stdout"
        }
      ]
    },
    {
      "cell_type": "markdown",
      "metadata": {
        "id": "EMtaUrY0Y-lj"
      },
      "source": [
        "We can also test it on a specific tweet in its bow representation. "
      ]
    },
    {
      "cell_type": "code",
      "metadata": {
        "colab": {
          "base_uri": "https://localhost:8080/"
        },
        "id": "l8PHt8un-EW2",
        "outputId": "dac8f21a-962a-4312-93e2-99a6a68048bc"
      },
      "source": [
        "# Single input test\r\n",
        "i = 4 # index of the input\r\n",
        "print('Target : ', bow_Y_test[i]) # target \r\n",
        "print(np.array(bow_X_test[i]).reshape(1, -1)[0])\r\n",
        "print('Prediction :', bow_clf.predict(np.array(bow_X_test[i]).reshape(1, -1))[0]) # prediction"
      ],
      "execution_count": null,
      "outputs": [
        {
          "output_type": "stream",
          "text": [
            "Target :  0\n",
            "[0 0 0 ... 0 0 0]\n",
            "Prediction : 0\n"
          ],
          "name": "stdout"
        }
      ]
    },
    {
      "cell_type": "markdown",
      "metadata": {
        "id": "hpeGvtcsJ-hP"
      },
      "source": [
        "#### **TF-IDF**\r\n",
        "\r\n"
      ]
    },
    {
      "cell_type": "markdown",
      "metadata": {
        "id": "-uoRDqLWKJpm"
      },
      "source": [
        "To calculate the tf-idf of a tweet, the sentence(s) needs to be as one string. Thus, the preprocessed tweets (tokenized and cleaned) are joined together."
      ]
    },
    {
      "cell_type": "code",
      "metadata": {
        "colab": {
          "base_uri": "https://localhost:8080/"
        },
        "id": "8WHxfyypPLqq",
        "outputId": "5a3c0e2e-61ac-498c-b6fd-8a0c701954f4"
      },
      "source": [
        "# Re process the tweets dor tf-idf calculations\r\n",
        "tf_idf_X = [' '.join(i) for i in concat_X] # concat all token in sentences for classifier\r\n",
        "tf_idf_Y = concat_Y\r\n",
        "\r\n",
        "print('Example of an input :', tf_idf_X[0])"
      ],
      "execution_count": null,
      "outputs": [
        {
          "output_type": "stream",
          "text": [
            "Example of an input : upset updat facebook text might cri resultschool today also blah\n"
          ],
          "name": "stdout"
        }
      ]
    },
    {
      "cell_type": "markdown",
      "metadata": {
        "id": "SAwg6izvdKPT"
      },
      "source": [
        "The TF-IDF converter can be defined (created or loaded) in order to convert the tweet in a tf-idf representation vector."
      ]
    },
    {
      "cell_type": "code",
      "metadata": {
        "id": "78-aIzLJddp0"
      },
      "source": [
        "def load_tf_idf_converter(is_loaded=True):\r\n",
        "  '''\r\n",
        "  Load or create the TF-IDF converter.\r\n",
        "  Input:\r\n",
        "    is_loaded - True if the converter is loaded from its storage directory\r\n",
        "  Output:\r\n",
        "    The TF-IDF converter\r\n",
        "  '''\r\n",
        "  tfidfconverter = -1 # to track errors\r\n",
        "  if is_loaded:\r\n",
        "    tfidfconverter = load('gdrive/MyDrive/NLP_Project/models/tf_idf/tf_idf_converter.joblib')\r\n",
        "\r\n",
        "  else:\r\n",
        "    # Create feature vectors containing TF-IDF values\r\n",
        "    tfidfconverter = TfidfVectorizer(\r\n",
        "        max_features=2000,  # number of most occurring words for which we want to create feature vectors\r\n",
        "        min_df=5,           # the word must occur in at least min_df tweets\r\n",
        "        max_df=0.7,         # the word must not occur in more than (max_df*100) percent of the tweets\r\n",
        "        stop_words=stopwords.words('english')\r\n",
        "        )\r\n",
        "    \r\n",
        "  return tfidfconverter"
      ],
      "execution_count": null,
      "outputs": []
    },
    {
      "cell_type": "code",
      "metadata": {
        "id": "GTaY5gzIKD6K"
      },
      "source": [
        "# Load or create feature vectors containing TF-IDF values\r\n",
        "train = False # for safety\r\n",
        "is_load = not train\r\n",
        "\r\n",
        "tfidfconverter = load_tf_idf_converter(is_load)\r\n",
        "\r\n",
        "# Convert your dataset into corresponding TF-IDF feature vectors\r\n",
        "tf_idf_X = tfidfconverter.fit_transform(tf_idf_X).toarray() # X = processed tweets from the data"
      ],
      "execution_count": null,
      "outputs": []
    },
    {
      "cell_type": "markdown",
      "metadata": {
        "id": "V0Dk0Y8FeCzG"
      },
      "source": [
        "The onverter is stored for later use after it has been created and trained."
      ]
    },
    {
      "cell_type": "code",
      "metadata": {
        "id": "YToG0krgeIf3"
      },
      "source": [
        "# Save tf_idf converter for later use\r\n",
        "if train:\r\n",
        "  dump(tfidfconverter, 'gdrive/MyDrive/NLP_Project/models/tf_idf/tf_idf_converter.joblib')"
      ],
      "execution_count": null,
      "outputs": []
    },
    {
      "cell_type": "markdown",
      "metadata": {
        "id": "7wU6Iz0ReIzD"
      },
      "source": [
        "The input data (and target) is split between training and validation data for fitting of the model."
      ]
    },
    {
      "cell_type": "code",
      "metadata": {
        "id": "kNICfYYeLQgI"
      },
      "source": [
        "# Split training and validation data\r\n",
        "tf_idf_X_train, tf_idf_X_test, tf_idf_y_train, tf_idf_y_test = train_test_split(tf_idf_X, tf_idf_Y, test_size=0.2, random_state=0)"
      ],
      "execution_count": null,
      "outputs": []
    },
    {
      "cell_type": "markdown",
      "metadata": {
        "id": "8jnBrY8fMuVa"
      },
      "source": [
        "The model can be now initialized or loaded :"
      ]
    },
    {
      "cell_type": "code",
      "metadata": {
        "id": "_y08jKAMeeu-"
      },
      "source": [
        "def load_tf_idf_model(is_loaded=True, tf_idf_X_train=-1, tf_idf_y_train=-1):\r\n",
        "  '''\r\n",
        "  Load or create the TF-IDF classifier.\r\n",
        "  Inputs:\r\n",
        "    is_loaded - True if the classifier is loaded from its storage directory\r\n",
        "    tf_idf_X_train - input training data for classifier fit\r\n",
        "    tf_idf_y_train - input's target training data for classifier fit\r\n",
        "  Ouput:\r\n",
        "    tf_idf_model - the TF-IDF calssifier\r\n",
        "  '''\r\n",
        "  tf_idf_clf = -1\r\n",
        "  if is_loaded:\r\n",
        "    tf_idf_clf = load('gdrive/MyDrive/NLP_Project/models/tf_idf/tf_idf_clf_model.joblib')\r\n",
        "  \r\n",
        "  elif not is_loaded and type(tf_idf_X_train)!=int and type(tf_idf_y_train)!=int:\r\n",
        "    tf_idf_clf = RandomForestClassifier(n_estimators=100, random_state=0)  \r\n",
        "    tf_idf_clf.fit(tf_idf_X_train, tf_idf_y_train)\r\n",
        "  \r\n",
        "  return tf_idf_clf"
      ],
      "execution_count": null,
      "outputs": []
    },
    {
      "cell_type": "code",
      "metadata": {
        "id": "X85myhXXMv73"
      },
      "source": [
        "# Load or create the TF-IDF classifier\r\n",
        "tf_idf_classifier = load_tf_idf_model(is_load, tf_idf_X_train, tf_idf_y_train)"
      ],
      "execution_count": null,
      "outputs": []
    },
    {
      "cell_type": "markdown",
      "metadata": {
        "id": "QnkJEmGU6TsN"
      },
      "source": [
        "After loading or training, we can make predictions on the test data, as well as visualsing the results."
      ]
    },
    {
      "cell_type": "code",
      "metadata": {
        "colab": {
          "base_uri": "https://localhost:8080/"
        },
        "id": "ZCRV5x8qNB3E",
        "outputId": "aa4f1d77-ae51-4852-cc42-fa7bd8703447"
      },
      "source": [
        "# Predictions on the test data\r\n",
        "predictions = tf_idf_classifier.predict(tf_idf_X_test)\r\n",
        "\r\n",
        "# Visual mesures of the model\r\n",
        "print(confusion_matrix(tf_idf_y_test,predictions))  \r\n",
        "print(classification_report(tf_idf_y_test,predictions))  \r\n",
        "print(accuracy_score(tf_idf_y_test, predictions))"
      ],
      "execution_count": null,
      "outputs": [
        {
          "output_type": "stream",
          "text": [
            "[[253 154]\n",
            " [111 282]]\n",
            "              precision    recall  f1-score   support\n",
            "\n",
            "           0       0.70      0.62      0.66       407\n",
            "           1       0.65      0.72      0.68       393\n",
            "\n",
            "    accuracy                           0.67       800\n",
            "   macro avg       0.67      0.67      0.67       800\n",
            "weighted avg       0.67      0.67      0.67       800\n",
            "\n",
            "0.66875\n"
          ],
          "name": "stdout"
        }
      ]
    },
    {
      "cell_type": "markdown",
      "metadata": {
        "id": "q4RAivi76g7K"
      },
      "source": [
        "We can also make single prediction and see what is the sentiment (0/1) predicted."
      ]
    },
    {
      "cell_type": "code",
      "metadata": {
        "colab": {
          "base_uri": "https://localhost:8080/"
        },
        "id": "H4gIjXvGSCvH",
        "outputId": "411a9d22-d4ad-46cd-ff35-5019bbfad478"
      },
      "source": [
        "# Single tests\r\n",
        "\r\n",
        "i = 6 # index in the predictions\r\n",
        "print('Target :', tf_idf_y_test[i]) # target value\r\n",
        "print('Prediction :', tf_idf_classifier.predict(tf_idf_X_test[i].reshape(1, -1))[0]) # prediction value"
      ],
      "execution_count": null,
      "outputs": [
        {
          "output_type": "stream",
          "text": [
            "Target : 0\n",
            "Prediction : 0\n"
          ],
          "name": "stdout"
        }
      ]
    },
    {
      "cell_type": "markdown",
      "metadata": {
        "id": "t9dAzyr6OiDD"
      },
      "source": [
        "The classifier is saved (stored in gdrive directory) after the end of its training for a later use in the pipeline solution."
      ]
    },
    {
      "cell_type": "code",
      "metadata": {
        "id": "59ogA3wwOhQ7"
      },
      "source": [
        "if train: # for safety\r\n",
        "  dump(tf_idf_classifier, 'gdrive/MyDrive/NLP_Project/models/tf_idf/tf_idf_clf_model.joblib')"
      ],
      "execution_count": null,
      "outputs": []
    },
    {
      "cell_type": "markdown",
      "metadata": {
        "id": "M4wHzjtosmxy"
      },
      "source": [
        "#### **LSTM**\r\n",
        "\r\n",
        "This LSTM model is a RNN model that has feedback connections. It is known that LSTM models are more effective than Deep Neural Networks and conventional RNNs for sentiment analysis. In fact, LSTM (long short term memory) save the words and predict the next words based on the previous words. LSTM is a sequance predictor of next coming words. "
      ]
    },
    {
      "cell_type": "markdown",
      "metadata": {
        "id": "n8rtXx1s-kSE"
      },
      "source": [
        "For this model, we will be using another representation of the input data. The data is passed through a Tokenizer that will convert the tweet into float arrays, padded to a chosen max length. It is composed of float giving more a less meaning to each word given the vocabulary vector and other tweet from the input. "
      ]
    },
    {
      "cell_type": "code",
      "metadata": {
        "id": "tfTfA92F5W54"
      },
      "source": [
        "def load_tokenizer(voc_size=-1, input_values=-1, is_loaded=True):\r\n",
        "  '''\r\n",
        "  Load or create the Tokenizer.\r\n",
        "  Inputs:\r\n",
        "    is_loaded - Tru if the Tokenizer is loaded from directory\r\n",
        "    voc_size - the vocabulary vector's length\r\n",
        "    input_values - input values for Tokenizer fit\r\n",
        "  Output:\r\n",
        "    tok - Tokenizer\r\n",
        "  '''\r\n",
        "  tok = -1\r\n",
        "  if is_loaded:\r\n",
        "    tok = load('gdrive/MyDrive/NLP_Project/models/lstm/tokenizer.joblib')\r\n",
        "\r\n",
        "  elif not is_loaded and voc_size!=-1 and type(input_values)!=int:\r\n",
        "    tok = Tokenizer(num_words=voc_size)\r\n",
        "    tok.fit_on_texts(input_values)\r\n",
        "\r\n",
        "  return tok"
      ],
      "execution_count": null,
      "outputs": []
    },
    {
      "cell_type": "markdown",
      "metadata": {
        "id": "Xx6LxDfH_Mf1"
      },
      "source": [
        "We calculate the vocabulary vector and load (or create / fit) the tokenizer for the input representation. "
      ]
    },
    {
      "cell_type": "code",
      "metadata": {
        "colab": {
          "base_uri": "https://localhost:8080/"
        },
        "id": "afJnZRDodEp_",
        "outputId": "a1b2bcb3-cfbc-432a-9466-55b3dc7389fa"
      },
      "source": [
        "# Converting the text words into float arrays\r\n",
        "voc = load_voc(input_values=concat_X, is_loaded=True) # load from drive\r\n",
        "voc_size = len(voc)\r\n",
        "\r\n",
        "max_len = 50 # to be a bit large \r\n",
        "tok = load_tokenizer(voc_size=voc_size, input_values=concat_X, is_loaded=True) # load from drive\r\n",
        "\r\n",
        "sequences = tok.texts_to_sequences(concat_X) # the tweet to sequences\r\n",
        "padded_sequences = sequence.pad_sequences(sequences,maxlen=max_len) # pad the obtained sequences\r\n",
        "\r\n",
        "print('Padded sequences shape :', padded_sequences.shape)"
      ],
      "execution_count": null,
      "outputs": [
        {
          "output_type": "stream",
          "text": [
            "Padded sequences shape : (4000, 50)\n"
          ],
          "name": "stdout"
        }
      ]
    },
    {
      "cell_type": "markdown",
      "metadata": {
        "id": "wyqBzgRrCvK_"
      },
      "source": [
        "The Tokenizer is saved in a directory after its creation and training for later use in the pipeline solution."
      ]
    },
    {
      "cell_type": "code",
      "metadata": {
        "id": "KnLLUB7znKQq"
      },
      "source": [
        "save = False # prevent misclicks \r\n",
        "if save:\r\n",
        "  dump(tok, 'gdrive/MyDrive/NLP_Project/models/lstm/tokenizer.joblib')"
      ],
      "execution_count": null,
      "outputs": []
    },
    {
      "cell_type": "markdown",
      "metadata": {
        "id": "acbFOeaiYuIk"
      },
      "source": [
        "The input dataset is split between training and validation data :"
      ]
    },
    {
      "cell_type": "code",
      "metadata": {
        "id": "i_KAI4kpeVaV"
      },
      "source": [
        "lstm_X_train, lstm_X_test, lstm_Y_train, lstm_Y_test = train_test_split(padded_sequences, concat_Y, test_size=0.3, random_state=2)"
      ],
      "execution_count": 370,
      "outputs": []
    },
    {
      "cell_type": "markdown",
      "metadata": {
        "id": "5tBmfqUfDE0x"
      },
      "source": [
        "The model is then defined (loaded or created) for possible training and use."
      ]
    },
    {
      "cell_type": "code",
      "metadata": {
        "id": "2UnOmoaae8PP"
      },
      "source": [
        "def initialize_lstm_model(voc_size :int, max_len :int):\r\n",
        "  '''\r\n",
        "  Initialize the LSTM model.\r\n",
        "  Inputs:\r\n",
        "    voc_size - vocabulary vector length\r\n",
        "    max_len - supposed maximum length of a tweet for padding\r\n",
        "  Output:\r\n",
        "    model - the keras model\r\n",
        "  '''\r\n",
        "  model = keras.Sequential([\r\n",
        "      Input(shape=[max_len]),\r\n",
        "      Embedding(voc_size,50,input_length=max_len),\r\n",
        "      LSTM(64),\r\n",
        "      Dense(256, activation='relu'),\r\n",
        "      Dropout(0.5),\r\n",
        "      Dense(1,activation='sigmoid')\r\n",
        "      ])\r\n",
        "  return model\r\n",
        "\r\n",
        "def load_lstm_model(is_loaded=True, voc_size=-1, max_len=-1):\r\n",
        "  '''\r\n",
        "  Initialize the LSTM model or load it from directory.\r\n",
        "  Inputs:\r\n",
        "    is_loaded - True if the LTSM model is loaded for its storage directory\r\n",
        "    voc_size - vocabulary vector length\r\n",
        "    max_len - supposed maximum length of a tweet for padding\r\n",
        "  Output:\r\n",
        "    model - the keras model\r\n",
        "  '''\r\n",
        "  model = -1\r\n",
        "  if is_loaded:\r\n",
        "    model = keras.models.load_model('gdrive/MyDrive/NLP_Project/models/lstm/lstm_model')\r\n",
        "\r\n",
        "  elif not is_loaded and voc_size!=-1 and max_len!=-1:\r\n",
        "    model = initialize_lstm_model(voc_size, max_len)\r\n",
        "\r\n",
        "  return model"
      ],
      "execution_count": null,
      "outputs": []
    },
    {
      "cell_type": "code",
      "metadata": {
        "colab": {
          "base_uri": "https://localhost:8080/"
        },
        "id": "SCMSIO1-owYZ",
        "outputId": "5dafbbb1-383c-486e-c2af-c9fa411e34a5"
      },
      "source": [
        "lstm_model = load_lstm_model(is_loaded=True, voc_size=voc_size, max_len=max_len)\r\n",
        "\r\n",
        "rmsprop_opt = keras.optimizers.RMSprop(learning_rate=0.1)\r\n",
        "lstm_model.compile(\r\n",
        "    loss = 'binary_crossentropy', # 2 classes\r\n",
        "    optimizer=rmsprop_opt,\r\n",
        "    metrics = ['accuracy']\r\n",
        "    )\r\n",
        "\r\n",
        "print(lstm_model.summary())"
      ],
      "execution_count": null,
      "outputs": [
        {
          "output_type": "stream",
          "text": [
            "Model: \"sequential_11\"\n",
            "_________________________________________________________________\n",
            "Layer (type)                 Output Shape              Param #   \n",
            "=================================================================\n",
            "embedding_11 (Embedding)     (None, 50, 50)            348300    \n",
            "_________________________________________________________________\n",
            "lstm_11 (LSTM)               (None, 64)                29440     \n",
            "_________________________________________________________________\n",
            "dense_22 (Dense)             (None, 256)               16640     \n",
            "_________________________________________________________________\n",
            "dropout_11 (Dropout)         (None, 256)               0         \n",
            "_________________________________________________________________\n",
            "dense_23 (Dense)             (None, 1)                 257       \n",
            "=================================================================\n",
            "Total params: 394,637\n",
            "Trainable params: 394,637\n",
            "Non-trainable params: 0\n",
            "_________________________________________________________________\n",
            "None\n"
          ],
          "name": "stdout"
        }
      ]
    },
    {
      "cell_type": "markdown",
      "metadata": {
        "id": "NQ1cLa9cDTaM"
      },
      "source": [
        "The model is trained on 200 epochs total."
      ]
    },
    {
      "cell_type": "code",
      "metadata": {
        "colab": {
          "base_uri": "https://localhost:8080/"
        },
        "id": "TkhvqT3no-0L",
        "outputId": "bdc14cb1-4f78-4e10-f21c-7947be6227ef"
      },
      "source": [
        "# Training the model\r\n",
        "train = False\r\n",
        "if train:\r\n",
        "  lstm_history = lstm_model.fit(\r\n",
        "      lstm_X_train, lstm_Y_train,\r\n",
        "      batch_size=80,\r\n",
        "      epochs=200, \r\n",
        "      validation_data=(lstm_X_test, lstm_Y_test)\r\n",
        "      #validation_split=0.1\r\n",
        "      )"
      ],
      "execution_count": null,
      "outputs": [
        {
          "output_type": "stream",
          "text": [
            "Epoch 1/200\n",
            "35/35 [==============================] - 4s 70ms/step - loss: 4.6974 - accuracy: 0.8147 - val_loss: 5.3023 - val_accuracy: 0.7050\n",
            "Epoch 2/200\n",
            "35/35 [==============================] - 2s 53ms/step - loss: 1.1557 - accuracy: 0.8292 - val_loss: 3.3490 - val_accuracy: 0.7100\n",
            "Epoch 3/200\n",
            "35/35 [==============================] - 2s 54ms/step - loss: 0.7366 - accuracy: 0.8382 - val_loss: 1.7259 - val_accuracy: 0.7183\n",
            "Epoch 4/200\n",
            "35/35 [==============================] - 2s 54ms/step - loss: 0.7129 - accuracy: 0.8243 - val_loss: 2.3029 - val_accuracy: 0.7000\n",
            "Epoch 5/200\n",
            "35/35 [==============================] - 2s 54ms/step - loss: 0.5598 - accuracy: 0.8332 - val_loss: 2.7978 - val_accuracy: 0.7158\n",
            "Epoch 6/200\n",
            "35/35 [==============================] - 2s 54ms/step - loss: 0.4724 - accuracy: 0.8490 - val_loss: 2.6590 - val_accuracy: 0.7233\n",
            "Epoch 7/200\n",
            "35/35 [==============================] - 2s 54ms/step - loss: 0.5505 - accuracy: 0.8502 - val_loss: 2.3677 - val_accuracy: 0.7075\n",
            "Epoch 8/200\n",
            "35/35 [==============================] - 2s 53ms/step - loss: 0.5077 - accuracy: 0.8635 - val_loss: 2.9591 - val_accuracy: 0.6658\n",
            "Epoch 9/200\n",
            "35/35 [==============================] - 2s 54ms/step - loss: 0.4869 - accuracy: 0.8580 - val_loss: 3.2989 - val_accuracy: 0.7142\n",
            "Epoch 10/200\n",
            "35/35 [==============================] - 2s 55ms/step - loss: 0.4276 - accuracy: 0.8717 - val_loss: 2.4853 - val_accuracy: 0.6625\n",
            "Epoch 11/200\n",
            "35/35 [==============================] - 2s 56ms/step - loss: 0.3597 - accuracy: 0.8763 - val_loss: 2.9881 - val_accuracy: 0.6742\n",
            "Epoch 12/200\n",
            "35/35 [==============================] - 2s 55ms/step - loss: 0.3657 - accuracy: 0.8614 - val_loss: 3.0234 - val_accuracy: 0.7225\n",
            "Epoch 13/200\n",
            "35/35 [==============================] - 2s 54ms/step - loss: 0.4010 - accuracy: 0.8700 - val_loss: 3.3323 - val_accuracy: 0.7200\n",
            "Epoch 14/200\n",
            "35/35 [==============================] - 2s 54ms/step - loss: 0.3127 - accuracy: 0.8827 - val_loss: 3.7800 - val_accuracy: 0.7100\n",
            "Epoch 15/200\n",
            "35/35 [==============================] - 2s 55ms/step - loss: 0.3540 - accuracy: 0.8799 - val_loss: 4.0782 - val_accuracy: 0.7183\n",
            "Epoch 16/200\n",
            "35/35 [==============================] - 2s 53ms/step - loss: 0.4186 - accuracy: 0.8944 - val_loss: 3.9174 - val_accuracy: 0.7183\n",
            "Epoch 17/200\n",
            "35/35 [==============================] - 2s 54ms/step - loss: 0.3939 - accuracy: 0.8801 - val_loss: 3.3069 - val_accuracy: 0.7200\n",
            "Epoch 18/200\n",
            "35/35 [==============================] - 2s 54ms/step - loss: 0.4244 - accuracy: 0.8723 - val_loss: 4.1416 - val_accuracy: 0.7075\n",
            "Epoch 19/200\n",
            "35/35 [==============================] - 2s 55ms/step - loss: 0.3126 - accuracy: 0.8977 - val_loss: 4.2291 - val_accuracy: 0.6975\n",
            "Epoch 20/200\n",
            "35/35 [==============================] - 2s 54ms/step - loss: 0.3538 - accuracy: 0.8846 - val_loss: 4.7931 - val_accuracy: 0.6975\n",
            "Epoch 21/200\n",
            "35/35 [==============================] - 2s 54ms/step - loss: 0.3025 - accuracy: 0.8936 - val_loss: 3.9497 - val_accuracy: 0.6958\n",
            "Epoch 22/200\n",
            "35/35 [==============================] - 2s 54ms/step - loss: 0.2588 - accuracy: 0.9042 - val_loss: 4.2927 - val_accuracy: 0.6808\n",
            "Epoch 23/200\n",
            "35/35 [==============================] - 2s 53ms/step - loss: 0.3000 - accuracy: 0.9006 - val_loss: 5.7717 - val_accuracy: 0.7142\n",
            "Epoch 24/200\n",
            "35/35 [==============================] - 2s 55ms/step - loss: 0.3050 - accuracy: 0.9180 - val_loss: 4.8449 - val_accuracy: 0.6992\n",
            "Epoch 25/200\n",
            "35/35 [==============================] - 2s 56ms/step - loss: 0.3540 - accuracy: 0.9052 - val_loss: 5.5301 - val_accuracy: 0.6750\n",
            "Epoch 26/200\n",
            "35/35 [==============================] - 2s 58ms/step - loss: 0.3912 - accuracy: 0.9007 - val_loss: 5.0016 - val_accuracy: 0.7058\n",
            "Epoch 27/200\n",
            "35/35 [==============================] - 2s 60ms/step - loss: 0.3449 - accuracy: 0.8976 - val_loss: 5.0019 - val_accuracy: 0.7100\n",
            "Epoch 28/200\n",
            "35/35 [==============================] - 2s 55ms/step - loss: 0.2755 - accuracy: 0.9032 - val_loss: 5.3363 - val_accuracy: 0.6867\n",
            "Epoch 29/200\n",
            "35/35 [==============================] - 2s 57ms/step - loss: 0.2507 - accuracy: 0.9170 - val_loss: 5.1420 - val_accuracy: 0.6933\n",
            "Epoch 30/200\n",
            "35/35 [==============================] - 2s 56ms/step - loss: 0.3102 - accuracy: 0.9113 - val_loss: 5.5447 - val_accuracy: 0.7100\n",
            "Epoch 31/200\n",
            "35/35 [==============================] - 2s 56ms/step - loss: 0.3159 - accuracy: 0.9028 - val_loss: 5.2893 - val_accuracy: 0.7225\n",
            "Epoch 32/200\n",
            "35/35 [==============================] - 2s 55ms/step - loss: 0.2642 - accuracy: 0.9190 - val_loss: 5.7330 - val_accuracy: 0.6983\n",
            "Epoch 33/200\n",
            "35/35 [==============================] - 2s 54ms/step - loss: 0.2723 - accuracy: 0.9120 - val_loss: 6.1029 - val_accuracy: 0.7008\n",
            "Epoch 34/200\n",
            "35/35 [==============================] - 2s 54ms/step - loss: 0.3217 - accuracy: 0.9199 - val_loss: 5.7618 - val_accuracy: 0.6992\n",
            "Epoch 35/200\n",
            "35/35 [==============================] - 2s 54ms/step - loss: 0.2944 - accuracy: 0.9288 - val_loss: 6.5690 - val_accuracy: 0.6817\n",
            "Epoch 36/200\n",
            "35/35 [==============================] - 2s 54ms/step - loss: 0.2605 - accuracy: 0.9204 - val_loss: 5.3677 - val_accuracy: 0.6833\n",
            "Epoch 37/200\n",
            "35/35 [==============================] - 2s 54ms/step - loss: 0.3268 - accuracy: 0.9140 - val_loss: 5.8225 - val_accuracy: 0.6917\n",
            "Epoch 38/200\n",
            "35/35 [==============================] - 2s 54ms/step - loss: 0.2396 - accuracy: 0.9201 - val_loss: 6.0762 - val_accuracy: 0.6992\n",
            "Epoch 39/200\n",
            "35/35 [==============================] - 2s 55ms/step - loss: 0.2527 - accuracy: 0.9151 - val_loss: 5.8013 - val_accuracy: 0.7017\n",
            "Epoch 40/200\n",
            "35/35 [==============================] - 2s 56ms/step - loss: 0.2287 - accuracy: 0.9272 - val_loss: 6.3776 - val_accuracy: 0.7183\n",
            "Epoch 41/200\n",
            "35/35 [==============================] - 2s 55ms/step - loss: 0.3134 - accuracy: 0.9235 - val_loss: 6.0452 - val_accuracy: 0.7242\n",
            "Epoch 42/200\n",
            "35/35 [==============================] - 2s 56ms/step - loss: 0.2312 - accuracy: 0.9313 - val_loss: 7.0260 - val_accuracy: 0.7167\n",
            "Epoch 43/200\n",
            "35/35 [==============================] - 2s 54ms/step - loss: 0.2670 - accuracy: 0.9317 - val_loss: 7.2294 - val_accuracy: 0.7167\n",
            "Epoch 44/200\n",
            "35/35 [==============================] - 2s 54ms/step - loss: 0.1838 - accuracy: 0.9396 - val_loss: 7.0777 - val_accuracy: 0.7250\n",
            "Epoch 45/200\n",
            "35/35 [==============================] - 2s 57ms/step - loss: 0.2076 - accuracy: 0.9381 - val_loss: 7.6031 - val_accuracy: 0.6867\n",
            "Epoch 46/200\n",
            "35/35 [==============================] - 2s 53ms/step - loss: 0.2201 - accuracy: 0.9319 - val_loss: 7.6960 - val_accuracy: 0.6858\n",
            "Epoch 47/200\n",
            "35/35 [==============================] - 2s 55ms/step - loss: 0.2747 - accuracy: 0.9367 - val_loss: 8.3368 - val_accuracy: 0.7083\n",
            "Epoch 48/200\n",
            "35/35 [==============================] - 2s 56ms/step - loss: 0.2665 - accuracy: 0.9312 - val_loss: 8.0466 - val_accuracy: 0.7167\n",
            "Epoch 49/200\n",
            "35/35 [==============================] - 2s 55ms/step - loss: 0.1880 - accuracy: 0.9382 - val_loss: 8.6619 - val_accuracy: 0.7058\n",
            "Epoch 50/200\n",
            "35/35 [==============================] - 2s 55ms/step - loss: 0.1654 - accuracy: 0.9512 - val_loss: 9.3695 - val_accuracy: 0.7050\n",
            "Epoch 51/200\n",
            "35/35 [==============================] - 2s 54ms/step - loss: 0.2262 - accuracy: 0.9352 - val_loss: 9.6685 - val_accuracy: 0.7092\n",
            "Epoch 52/200\n",
            "35/35 [==============================] - 2s 55ms/step - loss: 0.2169 - accuracy: 0.9455 - val_loss: 8.6196 - val_accuracy: 0.7042\n",
            "Epoch 53/200\n",
            "35/35 [==============================] - 2s 55ms/step - loss: 0.2381 - accuracy: 0.9365 - val_loss: 9.3119 - val_accuracy: 0.7033\n",
            "Epoch 54/200\n",
            "35/35 [==============================] - 2s 54ms/step - loss: 0.1799 - accuracy: 0.9470 - val_loss: 9.2043 - val_accuracy: 0.7067\n",
            "Epoch 55/200\n",
            "35/35 [==============================] - 2s 55ms/step - loss: 0.2883 - accuracy: 0.9459 - val_loss: 8.4986 - val_accuracy: 0.7017\n",
            "Epoch 56/200\n",
            "35/35 [==============================] - 2s 57ms/step - loss: 0.3362 - accuracy: 0.9353 - val_loss: 8.4472 - val_accuracy: 0.6875\n",
            "Epoch 57/200\n",
            "35/35 [==============================] - 2s 55ms/step - loss: 0.2968 - accuracy: 0.9348 - val_loss: 8.6207 - val_accuracy: 0.6933\n",
            "Epoch 58/200\n",
            "35/35 [==============================] - 2s 55ms/step - loss: 0.2440 - accuracy: 0.9420 - val_loss: 8.4227 - val_accuracy: 0.6708\n",
            "Epoch 59/200\n",
            "35/35 [==============================] - 2s 55ms/step - loss: 0.1844 - accuracy: 0.9466 - val_loss: 7.6812 - val_accuracy: 0.7083\n",
            "Epoch 60/200\n",
            "35/35 [==============================] - 2s 56ms/step - loss: 0.2573 - accuracy: 0.9394 - val_loss: 7.4091 - val_accuracy: 0.6958\n",
            "Epoch 61/200\n",
            "35/35 [==============================] - 2s 57ms/step - loss: 0.2676 - accuracy: 0.9340 - val_loss: 7.7820 - val_accuracy: 0.7008\n",
            "Epoch 62/200\n",
            "35/35 [==============================] - 2s 57ms/step - loss: 0.2248 - accuracy: 0.9456 - val_loss: 9.2854 - val_accuracy: 0.7025\n",
            "Epoch 63/200\n",
            "35/35 [==============================] - 2s 59ms/step - loss: 0.2814 - accuracy: 0.9481 - val_loss: 9.4920 - val_accuracy: 0.7033\n",
            "Epoch 64/200\n",
            "35/35 [==============================] - 2s 57ms/step - loss: 0.2784 - accuracy: 0.9471 - val_loss: 9.4688 - val_accuracy: 0.7158\n",
            "Epoch 65/200\n",
            "35/35 [==============================] - 2s 58ms/step - loss: 0.2339 - accuracy: 0.9410 - val_loss: 10.1731 - val_accuracy: 0.6942\n",
            "Epoch 66/200\n",
            "35/35 [==============================] - 2s 58ms/step - loss: 0.1934 - accuracy: 0.9494 - val_loss: 9.2044 - val_accuracy: 0.6958\n",
            "Epoch 67/200\n",
            "35/35 [==============================] - 2s 56ms/step - loss: 0.2581 - accuracy: 0.9446 - val_loss: 8.6471 - val_accuracy: 0.6875\n",
            "Epoch 68/200\n",
            "35/35 [==============================] - 2s 55ms/step - loss: 0.2417 - accuracy: 0.9406 - val_loss: 10.0408 - val_accuracy: 0.6983\n",
            "Epoch 69/200\n",
            "35/35 [==============================] - 2s 56ms/step - loss: 0.3265 - accuracy: 0.9324 - val_loss: 9.8022 - val_accuracy: 0.6992\n",
            "Epoch 70/200\n",
            "35/35 [==============================] - 2s 55ms/step - loss: 0.2069 - accuracy: 0.9437 - val_loss: 9.5864 - val_accuracy: 0.6858\n",
            "Epoch 71/200\n",
            "35/35 [==============================] - 2s 57ms/step - loss: 0.1579 - accuracy: 0.9575 - val_loss: 10.5183 - val_accuracy: 0.6792\n",
            "Epoch 72/200\n",
            "35/35 [==============================] - 2s 56ms/step - loss: 0.2027 - accuracy: 0.9506 - val_loss: 9.8965 - val_accuracy: 0.6950\n",
            "Epoch 73/200\n",
            "35/35 [==============================] - 2s 56ms/step - loss: 0.2036 - accuracy: 0.9532 - val_loss: 11.7675 - val_accuracy: 0.6908\n",
            "Epoch 74/200\n",
            "35/35 [==============================] - 2s 57ms/step - loss: 0.2178 - accuracy: 0.9546 - val_loss: 10.5706 - val_accuracy: 0.6975\n",
            "Epoch 75/200\n",
            "35/35 [==============================] - 2s 55ms/step - loss: 0.2162 - accuracy: 0.9520 - val_loss: 9.4275 - val_accuracy: 0.6992\n",
            "Epoch 76/200\n",
            "35/35 [==============================] - 2s 56ms/step - loss: 0.2368 - accuracy: 0.9477 - val_loss: 9.1402 - val_accuracy: 0.6783\n",
            "Epoch 77/200\n",
            "35/35 [==============================] - 2s 55ms/step - loss: 0.2191 - accuracy: 0.9431 - val_loss: 9.3449 - val_accuracy: 0.6817\n",
            "Epoch 78/200\n",
            "35/35 [==============================] - 2s 54ms/step - loss: 0.2261 - accuracy: 0.9441 - val_loss: 10.2765 - val_accuracy: 0.6883\n",
            "Epoch 79/200\n",
            "35/35 [==============================] - 2s 54ms/step - loss: 0.2105 - accuracy: 0.9509 - val_loss: 8.8450 - val_accuracy: 0.6900\n",
            "Epoch 80/200\n",
            "35/35 [==============================] - 2s 54ms/step - loss: 0.2545 - accuracy: 0.9514 - val_loss: 10.0234 - val_accuracy: 0.6850\n",
            "Epoch 81/200\n",
            "35/35 [==============================] - 2s 54ms/step - loss: 0.2453 - accuracy: 0.9491 - val_loss: 9.4897 - val_accuracy: 0.7000\n",
            "Epoch 82/200\n",
            "35/35 [==============================] - 2s 55ms/step - loss: 0.1973 - accuracy: 0.9478 - val_loss: 10.5095 - val_accuracy: 0.6950\n",
            "Epoch 83/200\n",
            "35/35 [==============================] - 2s 56ms/step - loss: 0.2975 - accuracy: 0.9512 - val_loss: 10.8251 - val_accuracy: 0.6842\n",
            "Epoch 84/200\n",
            "35/35 [==============================] - 2s 56ms/step - loss: 0.2163 - accuracy: 0.9533 - val_loss: 10.6817 - val_accuracy: 0.6725\n",
            "Epoch 85/200\n",
            "35/35 [==============================] - 2s 55ms/step - loss: 0.1490 - accuracy: 0.9554 - val_loss: 11.2495 - val_accuracy: 0.6908\n",
            "Epoch 86/200\n",
            "35/35 [==============================] - 2s 55ms/step - loss: 0.1671 - accuracy: 0.9574 - val_loss: 11.2182 - val_accuracy: 0.6758\n",
            "Epoch 87/200\n",
            "35/35 [==============================] - 2s 56ms/step - loss: 0.1782 - accuracy: 0.9535 - val_loss: 10.3857 - val_accuracy: 0.7025\n",
            "Epoch 88/200\n",
            "35/35 [==============================] - 2s 57ms/step - loss: 0.1556 - accuracy: 0.9612 - val_loss: 10.6081 - val_accuracy: 0.6700\n",
            "Epoch 89/200\n",
            "35/35 [==============================] - 2s 56ms/step - loss: 0.2681 - accuracy: 0.9541 - val_loss: 10.8875 - val_accuracy: 0.6783\n",
            "Epoch 90/200\n",
            "35/35 [==============================] - 2s 55ms/step - loss: 0.1719 - accuracy: 0.9572 - val_loss: 11.1646 - val_accuracy: 0.6900\n",
            "Epoch 91/200\n",
            "35/35 [==============================] - 2s 57ms/step - loss: 0.1718 - accuracy: 0.9654 - val_loss: 11.0566 - val_accuracy: 0.6975\n",
            "Epoch 92/200\n",
            "35/35 [==============================] - 2s 58ms/step - loss: 0.1626 - accuracy: 0.9595 - val_loss: 12.0301 - val_accuracy: 0.6925\n",
            "Epoch 93/200\n",
            "35/35 [==============================] - 2s 56ms/step - loss: 0.1971 - accuracy: 0.9620 - val_loss: 11.7379 - val_accuracy: 0.6983\n",
            "Epoch 94/200\n",
            "35/35 [==============================] - 2s 56ms/step - loss: 0.2994 - accuracy: 0.9558 - val_loss: 10.8021 - val_accuracy: 0.6883\n",
            "Epoch 95/200\n",
            "35/35 [==============================] - 2s 57ms/step - loss: 0.1631 - accuracy: 0.9596 - val_loss: 11.3060 - val_accuracy: 0.6808\n",
            "Epoch 96/200\n",
            "35/35 [==============================] - 2s 56ms/step - loss: 0.1718 - accuracy: 0.9636 - val_loss: 11.7550 - val_accuracy: 0.6892\n",
            "Epoch 97/200\n",
            "35/35 [==============================] - 2s 55ms/step - loss: 0.1634 - accuracy: 0.9587 - val_loss: 12.3457 - val_accuracy: 0.6800\n",
            "Epoch 98/200\n",
            "35/35 [==============================] - 2s 54ms/step - loss: 0.1984 - accuracy: 0.9587 - val_loss: 11.0025 - val_accuracy: 0.6925\n",
            "Epoch 99/200\n",
            "35/35 [==============================] - 2s 54ms/step - loss: 0.1548 - accuracy: 0.9612 - val_loss: 11.8845 - val_accuracy: 0.6950\n",
            "Epoch 100/200\n",
            "35/35 [==============================] - 2s 60ms/step - loss: 0.2105 - accuracy: 0.9621 - val_loss: 11.7298 - val_accuracy: 0.6817\n",
            "Epoch 101/200\n",
            "35/35 [==============================] - 2s 66ms/step - loss: 0.1413 - accuracy: 0.9632 - val_loss: 13.6104 - val_accuracy: 0.6883\n",
            "Epoch 102/200\n",
            "35/35 [==============================] - 3s 73ms/step - loss: 0.1627 - accuracy: 0.9629 - val_loss: 14.5633 - val_accuracy: 0.7000\n",
            "Epoch 103/200\n",
            "35/35 [==============================] - 2s 66ms/step - loss: 0.2340 - accuracy: 0.9586 - val_loss: 13.2294 - val_accuracy: 0.6942\n",
            "Epoch 104/200\n",
            "35/35 [==============================] - 2s 59ms/step - loss: 0.2261 - accuracy: 0.9655 - val_loss: 12.4296 - val_accuracy: 0.6992\n",
            "Epoch 105/200\n",
            "35/35 [==============================] - 2s 56ms/step - loss: 0.1538 - accuracy: 0.9689 - val_loss: 12.4239 - val_accuracy: 0.6942\n",
            "Epoch 106/200\n",
            "35/35 [==============================] - 2s 54ms/step - loss: 0.1333 - accuracy: 0.9694 - val_loss: 12.6584 - val_accuracy: 0.7142\n",
            "Epoch 107/200\n",
            "35/35 [==============================] - 2s 56ms/step - loss: 0.1641 - accuracy: 0.9649 - val_loss: 13.2985 - val_accuracy: 0.6908\n",
            "Epoch 108/200\n",
            "35/35 [==============================] - 2s 58ms/step - loss: 0.2055 - accuracy: 0.9669 - val_loss: 12.8603 - val_accuracy: 0.6958\n",
            "Epoch 109/200\n",
            "35/35 [==============================] - 2s 58ms/step - loss: 0.2053 - accuracy: 0.9619 - val_loss: 13.5262 - val_accuracy: 0.6833\n",
            "Epoch 110/200\n",
            "35/35 [==============================] - 2s 55ms/step - loss: 0.1986 - accuracy: 0.9672 - val_loss: 11.8874 - val_accuracy: 0.7033\n",
            "Epoch 111/200\n",
            "35/35 [==============================] - 2s 55ms/step - loss: 0.2048 - accuracy: 0.9660 - val_loss: 13.6547 - val_accuracy: 0.6833\n",
            "Epoch 112/200\n",
            "35/35 [==============================] - 2s 55ms/step - loss: 0.2221 - accuracy: 0.9663 - val_loss: 13.8519 - val_accuracy: 0.6950\n",
            "Epoch 113/200\n",
            "35/35 [==============================] - 2s 55ms/step - loss: 0.1441 - accuracy: 0.9681 - val_loss: 13.3219 - val_accuracy: 0.7008\n",
            "Epoch 114/200\n",
            "35/35 [==============================] - 2s 55ms/step - loss: 0.1969 - accuracy: 0.9656 - val_loss: 15.2850 - val_accuracy: 0.6967\n",
            "Epoch 115/200\n",
            "35/35 [==============================] - 2s 56ms/step - loss: 0.2137 - accuracy: 0.9596 - val_loss: 14.2192 - val_accuracy: 0.7033\n",
            "Epoch 116/200\n",
            "35/35 [==============================] - 2s 54ms/step - loss: 0.2184 - accuracy: 0.9615 - val_loss: 13.8324 - val_accuracy: 0.7108\n",
            "Epoch 117/200\n",
            "35/35 [==============================] - 2s 55ms/step - loss: 0.1461 - accuracy: 0.9680 - val_loss: 13.8507 - val_accuracy: 0.7083\n",
            "Epoch 118/200\n",
            "35/35 [==============================] - 2s 55ms/step - loss: 0.2605 - accuracy: 0.9666 - val_loss: 12.2846 - val_accuracy: 0.7142\n",
            "Epoch 119/200\n",
            "35/35 [==============================] - 2s 56ms/step - loss: 0.1748 - accuracy: 0.9662 - val_loss: 13.2041 - val_accuracy: 0.6958\n",
            "Epoch 120/200\n",
            "35/35 [==============================] - 2s 56ms/step - loss: 0.2483 - accuracy: 0.9585 - val_loss: 13.4049 - val_accuracy: 0.7025\n",
            "Epoch 121/200\n",
            "35/35 [==============================] - 2s 56ms/step - loss: 0.2396 - accuracy: 0.9655 - val_loss: 12.1138 - val_accuracy: 0.7008\n",
            "Epoch 122/200\n",
            "35/35 [==============================] - 2s 55ms/step - loss: 0.1092 - accuracy: 0.9708 - val_loss: 13.9008 - val_accuracy: 0.7033\n",
            "Epoch 123/200\n",
            "35/35 [==============================] - 2s 55ms/step - loss: 0.1629 - accuracy: 0.9649 - val_loss: 13.7292 - val_accuracy: 0.7050\n",
            "Epoch 124/200\n",
            "35/35 [==============================] - 2s 57ms/step - loss: 0.1854 - accuracy: 0.9621 - val_loss: 13.5143 - val_accuracy: 0.7133\n",
            "Epoch 125/200\n",
            "35/35 [==============================] - 2s 58ms/step - loss: 0.2410 - accuracy: 0.9675 - val_loss: 14.9639 - val_accuracy: 0.7017\n",
            "Epoch 126/200\n",
            "35/35 [==============================] - 2s 59ms/step - loss: 0.1638 - accuracy: 0.9706 - val_loss: 13.5210 - val_accuracy: 0.7058\n",
            "Epoch 127/200\n",
            "35/35 [==============================] - 2s 61ms/step - loss: 0.2619 - accuracy: 0.9602 - val_loss: 13.5423 - val_accuracy: 0.7125\n",
            "Epoch 128/200\n",
            "35/35 [==============================] - 2s 59ms/step - loss: 0.2223 - accuracy: 0.9641 - val_loss: 13.1594 - val_accuracy: 0.7117\n",
            "Epoch 129/200\n",
            "35/35 [==============================] - 2s 58ms/step - loss: 0.1626 - accuracy: 0.9692 - val_loss: 13.4848 - val_accuracy: 0.7083\n",
            "Epoch 130/200\n",
            "35/35 [==============================] - 2s 60ms/step - loss: 0.1065 - accuracy: 0.9723 - val_loss: 14.0375 - val_accuracy: 0.7158\n",
            "Epoch 131/200\n",
            "35/35 [==============================] - 2s 58ms/step - loss: 0.1365 - accuracy: 0.9702 - val_loss: 14.5179 - val_accuracy: 0.7183\n",
            "Epoch 132/200\n",
            "35/35 [==============================] - 2s 56ms/step - loss: 0.2075 - accuracy: 0.9637 - val_loss: 14.4775 - val_accuracy: 0.6942\n",
            "Epoch 133/200\n",
            "35/35 [==============================] - 2s 55ms/step - loss: 0.2141 - accuracy: 0.9638 - val_loss: 14.8906 - val_accuracy: 0.7050\n",
            "Epoch 134/200\n",
            "35/35 [==============================] - 2s 58ms/step - loss: 0.1757 - accuracy: 0.9746 - val_loss: 15.3535 - val_accuracy: 0.7175\n",
            "Epoch 135/200\n",
            "35/35 [==============================] - 2s 56ms/step - loss: 0.1843 - accuracy: 0.9687 - val_loss: 15.0880 - val_accuracy: 0.6967\n",
            "Epoch 136/200\n",
            "35/35 [==============================] - 2s 57ms/step - loss: 0.1595 - accuracy: 0.9761 - val_loss: 14.9593 - val_accuracy: 0.7008\n",
            "Epoch 137/200\n",
            "35/35 [==============================] - 2s 56ms/step - loss: 0.2445 - accuracy: 0.9652 - val_loss: 14.6206 - val_accuracy: 0.6983\n",
            "Epoch 138/200\n",
            "35/35 [==============================] - 2s 55ms/step - loss: 0.1470 - accuracy: 0.9738 - val_loss: 15.4533 - val_accuracy: 0.7058\n",
            "Epoch 139/200\n",
            "35/35 [==============================] - 2s 55ms/step - loss: 0.1692 - accuracy: 0.9754 - val_loss: 16.6253 - val_accuracy: 0.7042\n",
            "Epoch 140/200\n",
            "35/35 [==============================] - 2s 55ms/step - loss: 0.1799 - accuracy: 0.9655 - val_loss: 17.3047 - val_accuracy: 0.6975\n",
            "Epoch 141/200\n",
            "35/35 [==============================] - 2s 56ms/step - loss: 0.1486 - accuracy: 0.9732 - val_loss: 17.0238 - val_accuracy: 0.7058\n",
            "Epoch 142/200\n",
            "35/35 [==============================] - 2s 57ms/step - loss: 0.1566 - accuracy: 0.9714 - val_loss: 17.8293 - val_accuracy: 0.7033\n",
            "Epoch 143/200\n",
            "35/35 [==============================] - 2s 55ms/step - loss: 0.2181 - accuracy: 0.9640 - val_loss: 17.0400 - val_accuracy: 0.6917\n",
            "Epoch 144/200\n",
            "35/35 [==============================] - 2s 56ms/step - loss: 0.2398 - accuracy: 0.9671 - val_loss: 16.1797 - val_accuracy: 0.6975\n",
            "Epoch 145/200\n",
            "35/35 [==============================] - 2s 56ms/step - loss: 0.2333 - accuracy: 0.9726 - val_loss: 17.4778 - val_accuracy: 0.6858\n",
            "Epoch 146/200\n",
            "35/35 [==============================] - 2s 55ms/step - loss: 0.1596 - accuracy: 0.9730 - val_loss: 18.4252 - val_accuracy: 0.6858\n",
            "Epoch 147/200\n",
            "35/35 [==============================] - 2s 55ms/step - loss: 0.2405 - accuracy: 0.9663 - val_loss: 16.5783 - val_accuracy: 0.6883\n",
            "Epoch 148/200\n",
            "35/35 [==============================] - 2s 56ms/step - loss: 0.2371 - accuracy: 0.9710 - val_loss: 15.7655 - val_accuracy: 0.6867\n",
            "Epoch 149/200\n",
            "35/35 [==============================] - 2s 56ms/step - loss: 0.1789 - accuracy: 0.9726 - val_loss: 16.5571 - val_accuracy: 0.6942\n",
            "Epoch 150/200\n",
            "35/35 [==============================] - 2s 56ms/step - loss: 0.2685 - accuracy: 0.9637 - val_loss: 15.4081 - val_accuracy: 0.6933\n",
            "Epoch 151/200\n",
            "35/35 [==============================] - 2s 56ms/step - loss: 0.2326 - accuracy: 0.9637 - val_loss: 15.3549 - val_accuracy: 0.7017\n",
            "Epoch 152/200\n",
            "35/35 [==============================] - 2s 58ms/step - loss: 0.2788 - accuracy: 0.9708 - val_loss: 14.8934 - val_accuracy: 0.7008\n",
            "Epoch 153/200\n",
            "35/35 [==============================] - 2s 56ms/step - loss: 0.2009 - accuracy: 0.9649 - val_loss: 14.9170 - val_accuracy: 0.7033\n",
            "Epoch 154/200\n",
            "35/35 [==============================] - 2s 56ms/step - loss: 0.2063 - accuracy: 0.9686 - val_loss: 14.3262 - val_accuracy: 0.6958\n",
            "Epoch 155/200\n",
            "35/35 [==============================] - 2s 56ms/step - loss: 0.2469 - accuracy: 0.9587 - val_loss: 15.0215 - val_accuracy: 0.7025\n",
            "Epoch 156/200\n",
            "35/35 [==============================] - 2s 56ms/step - loss: 0.2127 - accuracy: 0.9654 - val_loss: 16.9357 - val_accuracy: 0.6892\n",
            "Epoch 157/200\n",
            "35/35 [==============================] - 2s 57ms/step - loss: 0.0942 - accuracy: 0.9762 - val_loss: 17.5758 - val_accuracy: 0.6958\n",
            "Epoch 158/200\n",
            "35/35 [==============================] - 2s 55ms/step - loss: 0.1548 - accuracy: 0.9726 - val_loss: 16.7196 - val_accuracy: 0.6867\n",
            "Epoch 159/200\n",
            "35/35 [==============================] - 2s 55ms/step - loss: 0.1961 - accuracy: 0.9638 - val_loss: 18.1247 - val_accuracy: 0.6933\n",
            "Epoch 160/200\n",
            "35/35 [==============================] - 2s 56ms/step - loss: 0.1791 - accuracy: 0.9720 - val_loss: 16.8043 - val_accuracy: 0.6917\n",
            "Epoch 161/200\n",
            "35/35 [==============================] - 2s 57ms/step - loss: 0.1616 - accuracy: 0.9692 - val_loss: 18.5342 - val_accuracy: 0.6958\n",
            "Epoch 162/200\n",
            "35/35 [==============================] - 2s 57ms/step - loss: 0.2339 - accuracy: 0.9661 - val_loss: 17.9981 - val_accuracy: 0.6983\n",
            "Epoch 163/200\n",
            "35/35 [==============================] - 2s 57ms/step - loss: 0.1571 - accuracy: 0.9735 - val_loss: 18.6092 - val_accuracy: 0.6942\n",
            "Epoch 164/200\n",
            "35/35 [==============================] - 2s 59ms/step - loss: 0.1468 - accuracy: 0.9746 - val_loss: 17.6139 - val_accuracy: 0.6967\n",
            "Epoch 165/200\n",
            "35/35 [==============================] - 2s 58ms/step - loss: 0.1253 - accuracy: 0.9780 - val_loss: 17.2732 - val_accuracy: 0.6958\n",
            "Epoch 166/200\n",
            "35/35 [==============================] - 2s 55ms/step - loss: 0.1924 - accuracy: 0.9764 - val_loss: 18.3174 - val_accuracy: 0.6858\n",
            "Epoch 167/200\n",
            "35/35 [==============================] - 2s 58ms/step - loss: 0.1839 - accuracy: 0.9719 - val_loss: 18.7216 - val_accuracy: 0.6883\n",
            "Epoch 168/200\n",
            "35/35 [==============================] - 2s 58ms/step - loss: 0.1752 - accuracy: 0.9687 - val_loss: 21.1569 - val_accuracy: 0.6842\n",
            "Epoch 169/200\n",
            "35/35 [==============================] - 2s 58ms/step - loss: 0.1482 - accuracy: 0.9748 - val_loss: 19.8327 - val_accuracy: 0.6958\n",
            "Epoch 170/200\n",
            "35/35 [==============================] - 2s 58ms/step - loss: 0.1773 - accuracy: 0.9766 - val_loss: 17.4634 - val_accuracy: 0.6975\n",
            "Epoch 171/200\n",
            "35/35 [==============================] - 2s 57ms/step - loss: 0.2088 - accuracy: 0.9726 - val_loss: 19.7909 - val_accuracy: 0.6892\n",
            "Epoch 172/200\n",
            "35/35 [==============================] - 2s 60ms/step - loss: 0.1438 - accuracy: 0.9772 - val_loss: 17.8896 - val_accuracy: 0.6850\n",
            "Epoch 173/200\n",
            "35/35 [==============================] - 2s 58ms/step - loss: 0.1889 - accuracy: 0.9731 - val_loss: 19.0959 - val_accuracy: 0.6875\n",
            "Epoch 174/200\n",
            "35/35 [==============================] - 2s 57ms/step - loss: 0.1443 - accuracy: 0.9783 - val_loss: 21.5638 - val_accuracy: 0.6933\n",
            "Epoch 175/200\n",
            "35/35 [==============================] - 2s 57ms/step - loss: 0.1246 - accuracy: 0.9796 - val_loss: 19.0481 - val_accuracy: 0.6983\n",
            "Epoch 176/200\n",
            "35/35 [==============================] - 2s 55ms/step - loss: 0.1111 - accuracy: 0.9758 - val_loss: 19.6319 - val_accuracy: 0.6925\n",
            "Epoch 177/200\n",
            "35/35 [==============================] - 2s 57ms/step - loss: 0.1547 - accuracy: 0.9732 - val_loss: 19.7168 - val_accuracy: 0.6933\n",
            "Epoch 178/200\n",
            "35/35 [==============================] - 2s 56ms/step - loss: 0.1186 - accuracy: 0.9821 - val_loss: 21.0476 - val_accuracy: 0.6917\n",
            "Epoch 179/200\n",
            "35/35 [==============================] - 2s 66ms/step - loss: 0.1080 - accuracy: 0.9806 - val_loss: 23.0532 - val_accuracy: 0.6933\n",
            "Epoch 180/200\n",
            "35/35 [==============================] - 2s 68ms/step - loss: 0.1103 - accuracy: 0.9842 - val_loss: 23.3083 - val_accuracy: 0.6858\n",
            "Epoch 181/200\n",
            "35/35 [==============================] - 2s 60ms/step - loss: 0.1432 - accuracy: 0.9796 - val_loss: 21.3018 - val_accuracy: 0.6942\n",
            "Epoch 182/200\n",
            "35/35 [==============================] - 2s 59ms/step - loss: 0.2202 - accuracy: 0.9756 - val_loss: 21.7948 - val_accuracy: 0.7033\n",
            "Epoch 183/200\n",
            "35/35 [==============================] - 2s 56ms/step - loss: 0.1847 - accuracy: 0.9844 - val_loss: 23.7419 - val_accuracy: 0.6800\n",
            "Epoch 184/200\n",
            "35/35 [==============================] - 2s 58ms/step - loss: 0.1936 - accuracy: 0.9760 - val_loss: 21.2883 - val_accuracy: 0.6842\n",
            "Epoch 185/200\n",
            "35/35 [==============================] - 2s 59ms/step - loss: 0.1306 - accuracy: 0.9755 - val_loss: 21.6799 - val_accuracy: 0.6842\n",
            "Epoch 186/200\n",
            "35/35 [==============================] - 2s 57ms/step - loss: 0.1609 - accuracy: 0.9752 - val_loss: 20.9380 - val_accuracy: 0.6975\n",
            "Epoch 187/200\n",
            "35/35 [==============================] - 2s 59ms/step - loss: 0.1879 - accuracy: 0.9728 - val_loss: 20.6738 - val_accuracy: 0.6833\n",
            "Epoch 188/200\n",
            "35/35 [==============================] - 2s 56ms/step - loss: 0.1142 - accuracy: 0.9769 - val_loss: 22.5457 - val_accuracy: 0.6875\n",
            "Epoch 189/200\n",
            "35/35 [==============================] - 2s 57ms/step - loss: 0.1269 - accuracy: 0.9803 - val_loss: 21.3803 - val_accuracy: 0.6933\n",
            "Epoch 190/200\n",
            "35/35 [==============================] - 2s 57ms/step - loss: 0.1617 - accuracy: 0.9768 - val_loss: 22.6428 - val_accuracy: 0.6792\n",
            "Epoch 191/200\n",
            "35/35 [==============================] - 2s 60ms/step - loss: 0.1345 - accuracy: 0.9837 - val_loss: 21.6862 - val_accuracy: 0.6967\n",
            "Epoch 192/200\n",
            "35/35 [==============================] - 2s 59ms/step - loss: 0.1152 - accuracy: 0.9795 - val_loss: 21.1910 - val_accuracy: 0.6892\n",
            "Epoch 193/200\n",
            "35/35 [==============================] - 2s 55ms/step - loss: 0.2437 - accuracy: 0.9704 - val_loss: 22.2739 - val_accuracy: 0.6908\n",
            "Epoch 194/200\n",
            "35/35 [==============================] - 2s 59ms/step - loss: 0.0915 - accuracy: 0.9818 - val_loss: 23.7211 - val_accuracy: 0.7008\n",
            "Epoch 195/200\n",
            "35/35 [==============================] - 2s 59ms/step - loss: 0.1775 - accuracy: 0.9774 - val_loss: 25.3517 - val_accuracy: 0.6983\n",
            "Epoch 196/200\n",
            "35/35 [==============================] - 2s 57ms/step - loss: 0.2782 - accuracy: 0.9756 - val_loss: 23.7844 - val_accuracy: 0.6992\n",
            "Epoch 197/200\n",
            "35/35 [==============================] - 2s 57ms/step - loss: 0.2151 - accuracy: 0.9804 - val_loss: 22.0826 - val_accuracy: 0.6917\n",
            "Epoch 198/200\n",
            "35/35 [==============================] - 2s 55ms/step - loss: 0.1119 - accuracy: 0.9801 - val_loss: 22.4199 - val_accuracy: 0.6842\n",
            "Epoch 199/200\n",
            "35/35 [==============================] - 2s 56ms/step - loss: 0.1809 - accuracy: 0.9750 - val_loss: 24.6590 - val_accuracy: 0.6875\n",
            "Epoch 200/200\n",
            "35/35 [==============================] - 2s 57ms/step - loss: 0.2823 - accuracy: 0.9724 - val_loss: 25.3149 - val_accuracy: 0.6808\n"
          ],
          "name": "stdout"
        }
      ]
    },
    {
      "cell_type": "markdown",
      "metadata": {
        "id": "zW5-64dgDdII"
      },
      "source": [
        "Once trained, the accuracy can be tested through the validation data."
      ]
    },
    {
      "cell_type": "code",
      "metadata": {
        "colab": {
          "base_uri": "https://localhost:8080/"
        },
        "id": "KYgmFIJKtHzw",
        "outputId": "3ae7bc15-6d80-472b-e179-7c9888ad5457"
      },
      "source": [
        "# Testing the model\r\n",
        "lstm_accuracy = lstm_model.evaluate(lstm_X_test, lstm_Y_test)"
      ],
      "execution_count": null,
      "outputs": [
        {
          "output_type": "stream",
          "text": [
            "38/38 [==============================] - 1s 10ms/step - loss: 25.3148 - accuracy: 0.6808\n"
          ],
          "name": "stdout"
        }
      ]
    },
    {
      "cell_type": "markdown",
      "metadata": {
        "id": "m9bfQmbEDkpe"
      },
      "source": [
        "Predictions of the validation data are made :\r\n",
        "\r\n",
        "On the whole set"
      ]
    },
    {
      "cell_type": "code",
      "metadata": {
        "id": "xblGTW9HuoR7"
      },
      "source": [
        "lstm_predictions = lstm_model.predict(lstm_X_test)"
      ],
      "execution_count": null,
      "outputs": []
    },
    {
      "cell_type": "markdown",
      "metadata": {
        "id": "Cdr4t0jwDqT4"
      },
      "source": [
        "Or on single tweets from the set"
      ]
    },
    {
      "cell_type": "code",
      "metadata": {
        "colab": {
          "base_uri": "https://localhost:8080/"
        },
        "id": "Lj9L_46evzgz",
        "outputId": "1db7cd91-9456-4d07-eda9-fec861d545db"
      },
      "source": [
        "for i in range(10):\r\n",
        "  print(lstm_Y_test[i], '  /   {:0.2f}'.format(lstm_predictions[i][0]))"
      ],
      "execution_count": null,
      "outputs": [
        {
          "output_type": "stream",
          "text": [
            "1   /   1.00\n",
            "0   /   0.00\n",
            "0   /   0.00\n",
            "1   /   1.00\n",
            "1   /   0.94\n",
            "1   /   0.00\n",
            "0   /   1.00\n",
            "1   /   1.00\n",
            "0   /   0.00\n",
            "0   /   1.00\n"
          ],
          "name": "stdout"
        }
      ]
    },
    {
      "cell_type": "markdown",
      "metadata": {
        "id": "WuykOtaW1DUt"
      },
      "source": [
        "With the history of the training, the results can be plot as graphs. We have thus a better understanding with visuals."
      ]
    },
    {
      "cell_type": "code",
      "metadata": {
        "id": "UHaoEn3X0lWV"
      },
      "source": [
        "def plot_history(history):\r\n",
        "  '''\r\n",
        "  Plot the fit history of a model.\r\n",
        "  Input:\r\n",
        "    history - fit history of a model\r\n",
        "  '''\r\n",
        "  # Retrieve a list of list results on training and test data sets for each training epoch\r\n",
        "  acc=history.history['accuracy']\r\n",
        "  val_acc=history.history['val_accuracy']\r\n",
        "  loss=history.history['loss']\r\n",
        "  val_loss=history.history['val_loss']\r\n",
        "\r\n",
        "  epochs=range(len(acc)) # Get number of epochs\r\n",
        "\r\n",
        "  # Plot training and validation accuracy per epoch\r\n",
        "  plt.plot(epochs, acc, 'r')\r\n",
        "  plt.plot(epochs, val_acc, 'b')\r\n",
        "  plt.title('Training and validation accuracy')\r\n",
        "  plt.xlabel(\"Epochs\")\r\n",
        "  plt.ylabel(\"Accuracy\")\r\n",
        "  plt.legend([\"Accuracy\", \"Validation Accuracy\"])\r\n",
        "\r\n",
        "  plt.figure()\r\n",
        "\r\n",
        "  # Plot training and validation loss per epoch\r\n",
        "  plt.plot(epochs, loss, 'r')\r\n",
        "  plt.plot(epochs, val_loss, 'b')\r\n",
        "  plt.title('Training and validation loss')\r\n",
        "  plt.xlabel(\"Epochs\")\r\n",
        "  plt.ylabel(\"Loss\")\r\n",
        "  plt.legend([\"Loss\", \"Validation Loss\"])\r\n",
        "\r\n",
        "  plt.figure()\r\n",
        "\r\n",
        "  return"
      ],
      "execution_count": null,
      "outputs": []
    },
    {
      "cell_type": "code",
      "metadata": {
        "colab": {
          "base_uri": "https://localhost:8080/",
          "height": 592
        },
        "id": "kGXYtTEQBvYa",
        "outputId": "212df52a-91cd-4b95-b6fc-2080dac64e19"
      },
      "source": [
        "# Fitting summary in graphs\r\n",
        "plot_history(lstm_history)"
      ],
      "execution_count": null,
      "outputs": [
        {
          "output_type": "display_data",
          "data": {
            "image/png": "[encoded data removed]",
            "text/plain": [
              "<Figure size 432x288 with 1 Axes>"
            ]
          },
          "metadata": {
            "tags": []
          }
        },
        {
          "output_type": "display_data",
          "data": {
            "image/png": "[encoded data removed]",
            "text/plain": [
              "<Figure size 432x288 with 1 Axes>"
            ]
          },
          "metadata": {
            "tags": []
          }
        },
        {
          "output_type": "display_data",
          "data": {
            "text/plain": [
              "<Figure size 432x288 with 0 Axes>"
            ]
          },
          "metadata": {
            "tags": []
          }
        }
      ]
    },
    {
      "cell_type": "markdown",
      "metadata": {
        "id": "10DaC3cX6lsg"
      },
      "source": [
        "Finally, the model is saved to directory for prediction use in the pipeline"
      ]
    },
    {
      "cell_type": "code",
      "metadata": {
        "id": "x6DSfa4x6FVu"
      },
      "source": [
        "save = False # prevent misclicks \r\n",
        "if save:\r\n",
        "  lstm_model.save('gdrive/MyDrive/NLP_Project/models/lstm/lstm_model')"
      ],
      "execution_count": null,
      "outputs": []
    },
    {
      "cell_type": "markdown",
      "metadata": {
        "id": "guLVJTtgJJ1I"
      },
      "source": [
        "#### **LSTM GloVe**"
      ]
    },
    {
      "cell_type": "markdown",
      "metadata": {
        "id": "_rDcB_lIJTmX"
      },
      "source": [
        "The idea is the same has the LSTM model since it uses the same LSTM layers, but in addition GloVe Embedding (Global Vectors for Word Representations) layer is used. \r\n",
        "\r\n",
        "GloVe is an unsupervised learning algorithm for obtaining vector representations for words. It gives us in this manner a more meaningful representation of the tweets."
      ]
    },
    {
      "cell_type": "markdown",
      "metadata": {
        "id": "wN6fF9jZFm0j"
      },
      "source": [
        "The Embedding layer used in the model is computed thanks to the GloVe dataset."
      ]
    },
    {
      "cell_type": "code",
      "metadata": {
        "id": "3cRbJOKuMTXD"
      },
      "source": [
        "def read_glove_vector(path :str):\r\n",
        "  '''\r\n",
        "  Read the GloVe vector file from its text file.\r\n",
        "  Input:\r\n",
        "    path - path of the glove file\r\n",
        "  Output:\r\n",
        "    word_to_vec_map - dictionnary that maps the words with their respective word embeddings\r\n",
        "  '''\r\n",
        "  with open(path, 'r', encoding='UTF-8') as f:\r\n",
        "    words = set()\r\n",
        "    word_to_vec_map = {}\r\n",
        "    for line in f:\r\n",
        "      w_line = line.split()\r\n",
        "      curr_word = w_line[0]\r\n",
        "      word_to_vec_map[curr_word] = np.array(w_line[1:], dtype=np.float64)\r\n",
        "\r\n",
        "  return word_to_vec_map"
      ],
      "execution_count": null,
      "outputs": []
    },
    {
      "cell_type": "markdown",
      "metadata": {
        "id": "u3pGnvEfFxW9"
      },
      "source": [
        "We already have the Tokenizer of max length 50 and max word 5000., and we reuses the data obtained after training and validation split for the previous LSTM model."
      ]
    },
    {
      "cell_type": "code",
      "metadata": {
        "id": "0adRiJgiPpk6"
      },
      "source": [
        "# Calculate the Embedding layer's parameters \r\n",
        "tok = load_tokenizer()\r\n",
        "voc = load_voc()\r\n",
        "voc_size = len(voc)\r\n",
        "\r\n",
        "words_to_index = tok.word_index # for embedding matrix computation\r\n",
        "\r\n",
        "word_to_vec_map = read_glove_vector('gdrive/MyDrive/NLP_Project/models/lstm/glove.6B.50d.txt') # where glove makes its entrance\r\n",
        "embed_vec_len = word_to_vec_map['moon'].shape[0] # random pick to get length\r\n",
        "\r\n",
        "emb_matrix = np.zeros((voc_size, embed_vec_len)) # enbedding matrix initialization\r\n",
        "# Compution embedding matrix\r\n",
        "for word, index in words_to_index.items():\r\n",
        "  embedding_vector = word_to_vec_map.get(word)\r\n",
        "  if embedding_vector is not None:\r\n",
        "    emb_matrix[index, :] = embedding_vector"
      ],
      "execution_count": null,
      "outputs": []
    },
    {
      "cell_type": "markdown",
      "metadata": {
        "id": "NPmCCtflDhbt"
      },
      "source": [
        "The model is defined (either initialized or loaded) with the following cells. Two version of the LSTM model base on GloVe since its accuracy is very low. The reason for this low accuracy no matter the layers is still unknown. \r\n",
        "\r\n",
        "Here the model is according to the version 2."
      ]
    },
    {
      "cell_type": "code",
      "metadata": {
        "id": "UzXT7-6_JJCZ"
      },
      "source": [
        "def initialize_lstm_glove_model_v1(voc_size :int, max_len :int, embed_vec_len :int, emb_matrix :list):\r\n",
        "  '''\r\n",
        "  Initialize an LSTM model based on the GloVe dataset.\r\n",
        "  Version 1.\r\n",
        "  Inputs:\r\n",
        "    voc_size - vocabulary vectore length\r\n",
        "    max_len - supposed maximum input length\r\n",
        "    embed_vec_len - length of the embedding vector\r\n",
        "    emb_matrix - embedding matrix (weights)\r\n",
        "  Output:\r\n",
        "    model - the GloVe LSTM based model\r\n",
        "  '''\r\n",
        "  model = keras.Sequential([\r\n",
        "      Input(shape=[max_len]),\r\n",
        "      Embedding(input_dim=voc_size, output_dim=embed_vec_len, input_length=max_len, weights=[emb_matrix], trainable=True),\r\n",
        "      LSTM(128, return_sequences=True),\r\n",
        "      Dropout(0.6),\r\n",
        "      LSTM(128, return_sequences=True),\r\n",
        "      Dropout(0.6),\r\n",
        "      LSTM(128),\r\n",
        "      Dense(1,activation='sigmoid')\r\n",
        "  ])\r\n",
        "  return model\r\n",
        "\r\n",
        "# Actual version used in following computation (see load_lstm_model function)\r\n",
        "def initialize_lstm_glove_model_v2(voc_size :int, max_len :int, embed_vec_len :int, emb_matrix :list):\r\n",
        "  '''\r\n",
        "  Initialize an LSTM model based on the GloVe dataset.\r\n",
        "  Version 2.\r\n",
        "  Inputs:\r\n",
        "    voc_size - vocabulary vectore length\r\n",
        "    max_len - supposed maximum input length\r\n",
        "    embed_vec_len - length of the embedding vector\r\n",
        "    emb_matrix - embedding matrix (weights)\r\n",
        "  Output:\r\n",
        "    model - the GloVe LSTM based model\r\n",
        "  '''\r\n",
        "  model = keras.Sequential()\r\n",
        "  model.add(Embedding(input_dim=voc_size, output_dim=embed_vec_len, input_length=max_len, weights=[emb_matrix], trainable=True),)\r\n",
        "  model.add(SpatialDropout1D(0.25))\r\n",
        "  model.add(Bidirectional(LSTM(128,return_sequences=True)))\r\n",
        "  model.add(Bidirectional(LSTM(64,return_sequences=False)))\r\n",
        "  model.add(Dropout(0.5))\r\n",
        "  model.add(Dense(1, activation='sigmoid'))\r\n",
        "\r\n",
        "  return model\r\n",
        "\r\n",
        "def load_lstm_model(is_loaded=True, voc_size=-1, max_len=-1, embed_vec_len=-1, emb_matrix=-1):\r\n",
        "  '''\r\n",
        "  Load or create the GloVe LSTM based model.\r\n",
        "  Inputs:\r\n",
        "    is_loaded - True if the model is loaded from its storage directory\r\n",
        "    voc_size - vocabulary vectore length\r\n",
        "    max_len - supposed maximum input length\r\n",
        "    embed_vec_len - length of the embedding vector\r\n",
        "    emb_matrix - embedding matrix (weights)\r\n",
        "  Output:\r\n",
        "    model - the GloVe LSTM based model\r\n",
        "  '''\r\n",
        "  model = -1\r\n",
        "  if is_loaded:\r\n",
        "    model = keras.models.load_model('gdrive/MyDrive/NLP_Project/models/lstm/lstm_glove_model')\r\n",
        "\r\n",
        "  elif not is_loaded and voc_size!=-1 and max_len!=-1 and embed_vec_len!=-1 and type(emb_matrix)!=int:\r\n",
        "    model = initialize_lstm_glove_model_v2(voc_size, max_len, embed_vec_len, emb_matrix)\r\n",
        "\r\n",
        "  return model"
      ],
      "execution_count": null,
      "outputs": []
    },
    {
      "cell_type": "markdown",
      "metadata": {
        "id": "qUzNbWpnEMu-"
      },
      "source": [
        "We define the model and compile it."
      ]
    },
    {
      "cell_type": "code",
      "metadata": {
        "colab": {
          "base_uri": "https://localhost:8080/"
        },
        "id": "T8uB8tZiMUDb",
        "outputId": "64a7217d-e5bf-455c-fc7c-165ff058023b"
      },
      "source": [
        "lstm_glove_model = load_lstm_model(is_loaded=False, voc_size=voc_size, max_len=max_len, embed_vec_len=embed_vec_len, emb_matrix=emb_matrix)\r\n",
        "\r\n",
        "rmsprop_opt = keras.optimizers.RMSprop(learning_rate=0.1)\r\n",
        "adam_opt = keras.optimizers.Adam(learning_rate = 0.0001)\r\n",
        "lstm_glove_model.compile(\r\n",
        "    loss = 'binary_crossentropy', # 2 classes\r\n",
        "    optimizer = rmsprop_opt,\r\n",
        "    metrics = ['accuracy']\r\n",
        "    )\r\n",
        "\r\n",
        "print(lstm_glove_model.summary())"
      ],
      "execution_count": null,
      "outputs": [
        {
          "output_type": "stream",
          "text": [
            "Model: \"sequential_19\"\n",
            "_________________________________________________________________\n",
            "Layer (type)                 Output Shape              Param #   \n",
            "=================================================================\n",
            "embedding_19 (Embedding)     (None, 50, 50)            339900    \n",
            "_________________________________________________________________\n",
            "spatial_dropout1d_6 (Spatial (None, 50, 50)            0         \n",
            "_________________________________________________________________\n",
            "bidirectional_12 (Bidirectio (None, 50, 256)           183296    \n",
            "_________________________________________________________________\n",
            "bidirectional_13 (Bidirectio (None, 128)               164352    \n",
            "_________________________________________________________________\n",
            "dropout_31 (Dropout)         (None, 128)               0         \n",
            "_________________________________________________________________\n",
            "dense_20 (Dense)             (None, 1)                 129       \n",
            "=================================================================\n",
            "Total params: 687,677\n",
            "Trainable params: 687,677\n",
            "Non-trainable params: 0\n",
            "_________________________________________________________________\n",
            "None\n"
          ],
          "name": "stdout"
        }
      ]
    },
    {
      "cell_type": "code",
      "metadata": {
        "colab": {
          "base_uri": "https://localhost:8080/"
        },
        "id": "bF4mRnqjSOPM",
        "outputId": "65b5fa6e-de4c-4a05-c6f3-0bc2058faa17"
      },
      "source": [
        "# Training the model (same data that previous lstm split)\r\n",
        "train = False # prevent misclicks \r\n",
        "if train:\r\n",
        "  lstm_glove_history = lstm_glove_model.fit(\r\n",
        "      lstm_X_train, lstm_Y_train,\r\n",
        "      batch_size=64,\r\n",
        "      epochs=10,\r\n",
        "      validation_data=(lstm_X_test, lstm_Y_test)\r\n",
        "      )"
      ],
      "execution_count": 371,
      "outputs": [
        {
          "output_type": "stream",
          "text": [
            "Epoch 1/10\n",
            "44/44 [==============================] - 19s 431ms/step - loss: 1.4968 - accuracy: 0.5054 - val_loss: 1.7337 - val_accuracy: 0.4983\n",
            "Epoch 2/10\n",
            "44/44 [==============================] - 17s 395ms/step - loss: 1.3393 - accuracy: 0.5071 - val_loss: 1.7938 - val_accuracy: 0.4983\n",
            "Epoch 3/10\n",
            "44/44 [==============================] - 17s 395ms/step - loss: 1.1978 - accuracy: 0.5014 - val_loss: 0.9242 - val_accuracy: 0.5017\n",
            "Epoch 4/10\n",
            "44/44 [==============================] - 17s 398ms/step - loss: 0.8583 - accuracy: 0.4932 - val_loss: 0.7497 - val_accuracy: 0.4983\n",
            "Epoch 5/10\n",
            "44/44 [==============================] - 17s 395ms/step - loss: 0.9016 - accuracy: 0.5089 - val_loss: 0.7940 - val_accuracy: 0.4983\n",
            "Epoch 6/10\n",
            "44/44 [==============================] - 18s 403ms/step - loss: 0.8384 - accuracy: 0.5250 - val_loss: 1.1746 - val_accuracy: 0.4983\n",
            "Epoch 7/10\n",
            "44/44 [==============================] - 17s 394ms/step - loss: 0.7566 - accuracy: 0.5882 - val_loss: 0.7086 - val_accuracy: 0.5767\n",
            "Epoch 8/10\n",
            "44/44 [==============================] - 17s 394ms/step - loss: 0.6683 - accuracy: 0.6675 - val_loss: 0.9360 - val_accuracy: 0.5642\n",
            "Epoch 9/10\n",
            "44/44 [==============================] - 17s 399ms/step - loss: 0.6413 - accuracy: 0.6854 - val_loss: 0.8954 - val_accuracy: 0.5767\n",
            "Epoch 10/10\n",
            "44/44 [==============================] - 17s 392ms/step - loss: 0.6228 - accuracy: 0.7068 - val_loss: 0.9076 - val_accuracy: 0.5542\n"
          ],
          "name": "stdout"
        }
      ]
    },
    {
      "cell_type": "code",
      "metadata": {
        "id": "awBM2Zu9S6mm",
        "colab": {
          "base_uri": "https://localhost:8080/"
        },
        "outputId": "c728d81f-9867-4600-af47-ba7456b36858"
      },
      "source": [
        "# Testing the model\r\n",
        "lstm_accuracy = lstm_model.evaluate(lstm_X_test, lstm_Y_test)"
      ],
      "execution_count": 372,
      "outputs": [
        {
          "output_type": "stream",
          "text": [
            "38/38 [==============================] - 0s 10ms/step - loss: 36.8557 - accuracy: 0.5725\n"
          ],
          "name": "stdout"
        }
      ]
    },
    {
      "cell_type": "code",
      "metadata": {
        "id": "NYgvct3KS7R2",
        "colab": {
          "base_uri": "https://localhost:8080/"
        },
        "outputId": "cdb9d548-1b5b-4b21-abf3-4aa506cd929f"
      },
      "source": [
        "lstm_glove_predictions = lstm_glove_model.predict(lstm_X_test)\r\n",
        "\r\n",
        "# Tests on few tweets to see prediction\r\n",
        "for i in range(10):\r\n",
        "  print(lstm_Y_test[i], '  /   {:0.2f}'.format(lstm_glove_predictions[i][0]))"
      ],
      "execution_count": 373,
      "outputs": [
        {
          "output_type": "stream",
          "text": [
            "1   /   0.56\n",
            "0   /   0.12\n",
            "0   /   0.37\n",
            "1   /   0.33\n",
            "1   /   0.17\n",
            "1   /   0.53\n",
            "0   /   0.38\n",
            "1   /   0.07\n",
            "0   /   0.39\n",
            "0   /   0.17\n"
          ],
          "name": "stdout"
        }
      ]
    },
    {
      "cell_type": "markdown",
      "metadata": {
        "id": "4CrJaPegDGvQ"
      },
      "source": [
        "Moreover, fit history of the model is plot to have a better look on the model evolution."
      ]
    },
    {
      "cell_type": "code",
      "metadata": {
        "colab": {
          "base_uri": "https://localhost:8080/",
          "height": 592
        },
        "id": "zx2dI6j_DFDT",
        "outputId": "235356e6-f05f-4072-c6bf-7be82f70b11f"
      },
      "source": [
        "plot_history(lstm_glove_history)"
      ],
      "execution_count": 374,
      "outputs": [
        {
          "output_type": "display_data",
          "data": {
            "image/png": "[encoded data removed]",
            "text/plain": [
              "<Figure size 432x288 with 1 Axes>"
            ]
          },
          "metadata": {
            "tags": [],
            "needs_background": "light"
          }
        },
        {
          "output_type": "display_data",
          "data": {
            "image/png": "[encoded data removed]",
            "text/plain": [
              "<Figure size 432x288 with 1 Axes>"
            ]
          },
          "metadata": {
            "tags": [],
            "needs_background": "light"
          }
        },
        {
          "output_type": "display_data",
          "data": {
            "text/plain": [
              "<Figure size 432x288 with 0 Axes>"
            ]
          },
          "metadata": {
            "tags": []
          }
        }
      ]
    },
    {
      "cell_type": "code",
      "metadata": {
        "colab": {
          "base_uri": "https://localhost:8080/"
        },
        "id": "IrBQO3peTCen",
        "outputId": "75c13046-5ff7-4292-adf2-690e3f22425b"
      },
      "source": [
        "if train: # prevent misclicks \r\n",
        "  lstm_glove_model.save('gdrive/MyDrive/NLP_Project/models/lstm/lstm_glove_model')"
      ],
      "execution_count": 375,
      "outputs": [
        {
          "output_type": "stream",
          "text": [
            "WARNING:absl:Found untraced functions such as lstm_cell_112_layer_call_fn, lstm_cell_112_layer_call_and_return_conditional_losses, lstm_cell_113_layer_call_fn, lstm_cell_113_layer_call_and_return_conditional_losses, lstm_cell_115_layer_call_fn while saving (showing 5 of 20). These functions will not be directly callable after loading.\n",
            "WARNING:absl:Found untraced functions such as lstm_cell_112_layer_call_fn, lstm_cell_112_layer_call_and_return_conditional_losses, lstm_cell_113_layer_call_fn, lstm_cell_113_layer_call_and_return_conditional_losses, lstm_cell_115_layer_call_fn while saving (showing 5 of 20). These functions will not be directly callable after loading.\n"
          ],
          "name": "stderr"
        }
      ]
    },
    {
      "cell_type": "markdown",
      "metadata": {
        "id": "o2h_zDvFAWJT"
      },
      "source": [
        "# **Pipeline**\r\n",
        "\r\n",
        "This is the final solution, a pipeline that takes a tweet as input and a classifier/model name to use, and return the sentiment predicted (either positive or negative).\r\n",
        "\r\n",
        "Depending on the model used, it may take more a less time."
      ]
    },
    {
      "cell_type": "code",
      "metadata": {
        "id": "W1pLIqc8AYKe"
      },
      "source": [
        "def pipeline(tweet :str, model_type='last', model_dir_name='gdrive/MyDrive/NLP_Project/models'):\r\n",
        "  '''\r\n",
        "  Pipeline for sentiment analysis on tweet.\r\n",
        "  Will make a prediction on whether it is positive or negative.\r\n",
        "  A specific model may be chose between few one.\r\n",
        "  Inputs:\r\n",
        "    tweet - the tweet to be analysed\r\n",
        "    model_type - name of the type of model to use (bow | tf_idf | lstm | lstm_glove | last)\r\n",
        "            'last' will use the last model, thus the more advanced one in calculations\r\n",
        "  Output:\r\n",
        "    sentiment - the target prediction (positive | negative)\r\n",
        "  '''\r\n",
        "  preprocessed_tweet = data_preprocess([tweet])[0] # tokenized and cleaned\r\n",
        "  # print(preprocessed_tweet)\r\n",
        "  prediction = -1 # init, should be 0 or 1 otherwise an error has occured\r\n",
        "\r\n",
        "  if model_type == 'bow':\r\n",
        "    # bow of the tweet\r\n",
        "    voc = pd.read_csv(model_dir_name + '/bow/voc_vector.csv') # load vocabulary vector\r\n",
        "    voc = list(voc['0']) # cast to list\r\n",
        "    bow_tweet = bags_of_words([preprocessed_tweet], voc) # do the bags of words of the given tweet\r\n",
        "    bow_model = load(model_dir_name + '/bow/bow_model.joblib') # load model\r\n",
        "    prediction = bow_model.predict(np.array(bow_tweet).reshape(1, -1))[0] # make the prediction\r\n",
        "\r\n",
        "  elif model_type == 'tf_idf':\r\n",
        "    tf_idf_converter = load(model_dir_name + '/tf_idf/tf_idf_converter.joblib') # load tf_idf converter\r\n",
        "    tf_idf_classifier = load(model_dir_name + '/tf_idf/tf_idf_clf_model.joblib') # load model\r\n",
        "    joined_tweet = ' '.join(preprocessed_tweet) # join the cleaned token for tf-idf conversion\r\n",
        "    tf_idf_tweet = tf_idf_converter.transform([joined_tweet]).toarray() # tf_idf of the tweet\r\n",
        "    prediction = tf_idf_classifier.predict(np.array(tf_idf_tweet).reshape(1, -1)) # model prediction\r\n",
        "\r\n",
        "  elif model_type == 'lstm':\r\n",
        "    tokenizer = load(model_dir_name + '/lstm/tokenizer.joblib') # load tokenizer\r\n",
        "    max_len = 50\r\n",
        "    tweet_sequence = tok.texts_to_sequences([preprocessed_tweet]) # to sequence\r\n",
        "    padded_tweet_sequence = sequence.pad_sequences(tweet_sequence, maxlen=max_len) # padded sequence to match max_length\r\n",
        "    ltsm_model = keras.models.load_model(model_dir_name + '/lstm/lstm_model')\r\n",
        "    prediction = ltsm_model.predict(padded_tweet_sequence[0].reshape(1, -1)) # make the prediction, rounded to be a binary result\r\n",
        "    prediction = round(prediction[0][0])\r\n",
        "\r\n",
        "  elif model_type == 'lstm_glove' or model_type == 'last':\r\n",
        "    tokenizer = load(model_dir_name + '/lstm/tokenizer.joblib') # load tokenizer\r\n",
        "    max_len = 50 # max length of tweet, for input formatting\r\n",
        "    tweet_sequence = tok.texts_to_sequences([preprocessed_tweet]) # to sequence\r\n",
        "    padded_tweet_sequence = sequence.pad_sequences(tweet_sequence, maxlen=max_len) # padded sequence to match max_length\r\n",
        "    lstm_glove_model = keras.models.load_model(model_dir_name + '/lstm/lstm_glove_model') # load the model\r\n",
        "    prediction = lstm_glove_model.predict(padded_tweet_sequence[0].reshape(1, -1)) # make the prediction, rounded to be a binary result\r\n",
        "    prediction = round(prediction[0][0])\r\n",
        "\r\n",
        "  # Sentiment determination\r\n",
        "  if prediction == -1:\r\n",
        "    sentiment = 'error'\r\n",
        "  elif prediction == 0:\r\n",
        "    sentiment = 'negative'\r\n",
        "  elif prediction == 1:\r\n",
        "    sentiment = \"positive\"\r\n",
        "\r\n",
        "  return sentiment"
      ],
      "execution_count": 379,
      "outputs": []
    },
    {
      "cell_type": "markdown",
      "metadata": {
        "id": "22c06bB0J2VL"
      },
      "source": [
        "We can test the pipeline and the different model with custom tweets where we know the sentiment"
      ]
    },
    {
      "cell_type": "code",
      "metadata": {
        "colab": {
          "base_uri": "https://localhost:8080/"
        },
        "id": "KMaRSA0Nx7NM",
        "outputId": "42ea07e3-8901-46ea-8412-622cf5416ea1"
      },
      "source": [
        "# Created positive an nagative tweets for test\r\n",
        "neg_tweet = 'I dont like sweet. it make me feel so gross and fat, eww'\r\n",
        "pos_tweet = 'Seems like it a nice day but it could be even more something special if you were there'\r\n",
        "\r\n",
        "# Choose a model from available ones (bow | tf_idf | lstm | lstm_glove | last)\r\n",
        "model_type = 'lstm_glove' # (lstm_glove is very long, it is normal)\r\n",
        "\r\n",
        "print(pipeline(neg_tweet, model_type= model_type))\r\n",
        "print(pipeline(pos_tweet, model_type= model_type))"
      ],
      "execution_count": 380,
      "outputs": [
        {
          "output_type": "stream",
          "text": [
            "negative\n",
            "positive\n"
          ],
          "name": "stdout"
        }
      ]
    },
    {
      "cell_type": "markdown",
      "metadata": {
        "id": "MWo5pynvOvEe"
      },
      "source": [
        "The YELP API is used to test the pipeline with random reviews that hold a certain sentiment. The target sentiments are not determined but the user will be the one to judge."
      ]
    },
    {
      "cell_type": "code",
      "metadata": {
        "id": "VTqszISqHXej"
      },
      "source": [
        "def get_random_review(api_key :str):\r\n",
        "  '''\r\n",
        "  Get a random review from the YELP API.\r\n",
        "  Input:\r\n",
        "    api_key - your yelp api key\r\n",
        "  '''\r\n",
        "  headers = {'Authorization': 'Bearer %s' % api_key}\r\n",
        "\r\n",
        "  url = 'https://api.yelp.com/v3/businesses/search'\r\n",
        "  params = {'term':'bookstore','location':'New York City'}\r\n",
        "\r\n",
        "  req = requests.get(url, params=params, headers=headers)\r\n",
        "  parsed = json.loads(req.text)\r\n",
        "\r\n",
        "  businesses = parsed[\"businesses\"]\r\n",
        "  business = random.choice(businesses)\r\n",
        "  id = business[\"id\"]\r\n",
        "\r\n",
        "  url=\"https://api.yelp.com/v3/businesses/\" + id + \"/reviews\"\r\n",
        "  req = requests.get(url, headers=headers)\r\n",
        "  parsed = json.loads(req.text)\r\n",
        "  reviews = parsed[\"reviews\"]\r\n",
        "\r\n",
        "  return random.choice(reviews)[\"text\"]\r\n"
      ],
      "execution_count": 384,
      "outputs": []
    },
    {
      "cell_type": "markdown",
      "metadata": {
        "id": "5IqGuiocJ15_"
      },
      "source": [
        "With a random generation of the tweet / review, we can test on an unknown data the solution !"
      ]
    },
    {
      "cell_type": "code",
      "metadata": {
        "id": "gbBq1MHoNjyQ",
        "colab": {
          "base_uri": "https://localhost:8080/"
        },
        "outputId": "508f343f-6220-4c8b-f5c4-c85bdbeab30b"
      },
      "source": [
        "api_key = 'kwGY6U2egRIedk4rOL1wG3zNplFJiEULWPc9tkIWVlb2NQumhMm3EKxo1yKrXFmoo7fl4YXZ7MMj5KSDqN-j7b_LTUvOsVjZgAdDoEMtlFqeG90iwTVUV8hmUbM7YHYx' # 'copy_your_yelp_api_key_here'\r\n",
        "review = get_random_review(api_key=api_key)\r\n",
        "model_type = 'bow' # (bow | tf_idf | lstm | lstm_glove | last)\r\n",
        "\r\n",
        "print(review)\r\n",
        "print('Predicted sentiment with', model_type, ' :', pipeline(review))"
      ],
      "execution_count": 390,
      "outputs": [
        {
          "output_type": "stream",
          "text": [
            "I stopped in yesterday. There's only one person working, sitting behind a desk. At one point while I was browsing I felt my sock slipping down into my...\n",
            "Predicted sentiment with bow  : negative\n"
          ],
          "name": "stdout"
        }
      ]
    },
    {
      "cell_type": "markdown",
      "metadata": {
        "id": "egTlg-R5KHBY"
      },
      "source": [
        "---\r\n",
        "\r\n",
        "We can conclude that this pipeline solution may need some improvements but is still rather satisfying for a student project."
      ]
    }
  ]
}